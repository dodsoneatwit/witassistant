{
 "cells": [
  {
   "cell_type": "code",
   "execution_count": 36,
   "metadata": {},
   "outputs": [],
   "source": [
    "import bs4\n",
    "from bs4 import BeautifulSoup\n",
    "from langchain import hub\n",
    "from langchain_community.document_loaders import WebBaseLoader\n",
    "from langchain_chroma import Chroma\n",
    "from langchain_core.output_parsers import StrOutputParser\n",
    "from langchain_core.runnables import RunnablePassthrough\n",
    "from langchain_openai import OpenAIEmbeddings\n",
    "from langchain_text_splitters import RecursiveCharacterTextSplitter\n",
    "import requests\n",
    "from urllib.parse import urlparse, urljoin"
   ]
  },
  {
   "cell_type": "markdown",
   "metadata": {},
   "source": [
    "## <B> PURE WEBSCRAPE TESTING </B>"
   ]
  },
  {
   "cell_type": "code",
   "execution_count": 37,
   "metadata": {},
   "outputs": [],
   "source": [
    "import getpass\n",
    "import os\n",
    "\n",
    "os.environ[\"OPENAI_API_KEY\"] = getpass.getpass()"
   ]
  },
  {
   "cell_type": "code",
   "execution_count": 38,
   "metadata": {},
   "outputs": [],
   "source": [
    "# https://catalog.wit.edu/computing-data-science/computer-science-networking/computer-science-bs/\n",
    "\n",
    "# sk-proj-vmNFa0Rk56DWhBnG9guIT3BlbkFJzOd3TbwQ6h04Nr9JCFwh"
   ]
  },
  {
   "cell_type": "code",
   "execution_count": 39,
   "metadata": {},
   "outputs": [],
   "source": [
    "# Function to get sub-urls from a given URL\n",
    "def get_sub_urls(url, base_url):\n",
    "    response = requests.get(url)\n",
    "    soup = BeautifulSoup(response.text, 'html.parser')\n",
    "    sub_urls = []\n",
    "    for a in soup.find_all('a', href=True):\n",
    "        href = a['href']\n",
    "        if href.startswith('mailto:'):\n",
    "            # Skip mailto links\n",
    "            continue\n",
    "        if href.startswith('#'):\n",
    "            # Include sub-urls with '#' in front\n",
    "            sub_urls.append(urljoin(base_url, href))\n",
    "        else:\n",
    "            absolute_url = urljoin(base_url, href)\n",
    "            sub_urls.append(absolute_url)\n",
    "    return sub_urls"
   ]
  },
  {
   "cell_type": "code",
   "execution_count": 40,
   "metadata": {},
   "outputs": [],
   "source": [
    "# Function to recursively get all sub-urls up to a maximum depth\n",
    "def get_all_sub_urls(url, base_url, max_depth, current_depth=0, visited=None):\n",
    "    if visited is None:\n",
    "        visited = set()\n",
    "    visited.add(url)\n",
    "    if current_depth >= max_depth:\n",
    "        return visited\n",
    "    sub_urls = get_sub_urls(url, base_url)\n",
    "    for sub_url in sub_urls:\n",
    "        if sub_url not in visited:\n",
    "            visited.add(sub_url)\n",
    "            visited.update(get_all_sub_urls(sub_url, base_url, max_depth, current_depth + 1, visited))\n",
    "    return visited"
   ]
  },
  {
   "cell_type": "code",
   "execution_count": null,
   "metadata": {},
   "outputs": [],
   "source": [
    "# Main URL of the website\n",
    "main_url = 'https://catalog.wit.edu/'\n",
    "\n",
    "# Get all sub-urls from the main page\n",
    "all_sub_urls = get_all_sub_urls(main_url, main_url, 6)\n",
    "\n",
    "# Filter URLs with long paths\n",
    "# filtered_sub_urls = [url for url in all_sub_urls if len(urlparse(url).path.split('/')) >= 5]\n",
    "\n",
    "content = []\n",
    "# Use Webloader to load and process each sub-url\n",
    "for sub_url in all_sub_urls:\n",
    "    try:\n",
    "        loader = WebBaseLoader(sub_url)\n",
    "        content = loader.load()\n",
    "        # Use loader.page_content here\n",
    "    except Exception as e:\n",
    "        continue"
   ]
  },
  {
   "cell_type": "code",
   "execution_count": null,
   "metadata": {},
   "outputs": [],
   "source": [
    "sub_url"
   ]
  },
  {
   "cell_type": "code",
   "execution_count": 48,
   "metadata": {},
   "outputs": [
    {
     "data": {
      "text/plain": [
       "'\\n\\n\\n\\n\\n\\nThe School of Engineering < WIT\\n\\n\\n\\n\\n\\n\\n\\n\\n\\n\\n\\n\\n\\n\\n\\n\\n\\n\\n\\n\\n\\n\\n\\n\\n\\n\\nSkip to Content\\nAZ Index\\nCatalog Home\\n\\n\\n\\n\\n\\n\\n\\n\\n\\n\\n\\n\\n\\n\\n\\n\\n\\n\\n\\n2023-2024 Academic Catalog\\n\\n\\n\\n\\nSearch catalog\\n\\n\\n\\nSubmit Search\\n\\n\\n\\n\\n\\n\\n\\n\\nToggle main menu\\n\\n\\n\\n\\n\\n\\n\\n\\n\\nWentworth Home\\nCatalog Home\\nPrograms\\nCourses\\nAcademic Calendar\\nPrevious Catalogs\\nPrint/Download Options\\n\\n\\n\\n\\n\\n\\n\\n\\n\\n\\nWentworth Home\\nCatalog Home\\nPrograms\\nCourses\\nAcademic Calendar\\nPrevious Catalogs\\nPrint/Download Options\\n\\n\\n\\n\\n\\n\\n\\n\\n\\nMore In This Section\\n\\n\\n\\nThe School of Engineering \\n\\nBiological Engineering\\nBiomedical Engineering \\nCivil Engineering \\nElectrical and Computer Engineering \\nInterdisciplinary Engineering \\nMechanical Engineering \\n\\n\\n\\n\\n Print Options\\n                     \\n\\n\\n\\n\\nCatalog\\xa0Home//The School of Engineering\\n\\nThe School of Engineering\\n\\n\\n\\n\\nOverview\\n\\nPrograms\\n\\n\\n\\nAli Khabari,\\xa0 Dean\\nRubenstein Hall Room 209\\n(617) 989-4124\\nAnuja Kamat,\\xa0 Associate Dean\\nRubenstein Hall Room 207\\n(617) 989-4031\\nVision\\nOur students change the world.\\nMission\\nTo foster the education of competent, creative, entrepreneurial engineering students by dedicated faculty in innovative programs.\\nEducation Model\\nOur students develop a strong technical foundation, nurture their creativity and problem-solving skills on real-world projects, sharpen innovation and entrepreneurship skills in a collaborative, diverse environment, and complete at least two required semesters of cooperative work experience.\\xa0\\nLaboratory Experience\\xa0\\nOur students apply the theory of their discipline in state-of-the-art laboratories throughout their time at the University.\\xa0\\xa0\\nGlobal Impact\\nOur students develop competencies necessary to impact business, academia, and government in engineering and computer science for the betterment of society with a broad global perspective.\\n\\nBiological EngineeringBiological Engineering, B.S.Biomedical Engineering Biomedical Engineering, B.S.Civil Engineering Civil Engineering, B.S.Civil Engineering, M.Eng.Civil Engineering, M.S.Civil Engineering MinorEnvironmental Engineering MinorProfessional Land Surveying, CertificateElectrical and Computer Engineering Computer Engineering, B.S.Electrical Engineering, B.S.Computer Engineering, M.S.Electrical Engineering, M.S.Engineering Technology, A.A.S.Electrical Engineering MinorInternet of Things MinorInterdisciplinary Engineering Electromechanical Engineering B.S.Engineering B.S.Engineering B.S.- Mechanical Engineering ConcentrationEngineering B.S. - Civil Engineering ConcentrationEngineering B.S. - Electrical Engineering ConcentrationEngineering B.S. - Computer Engineering ConcentrationEngineering B.S. - Biomedical Engineering ConcentrationMechanical Engineering Mechanical Engineering, B.S. Mechanical Engineering, M.S.Aerospace Engineering MinorManufacturing Minor\\n\\n\\n\\n\\n\\n\\n\\n\\n\\n\\n\\n\\n\\n\\n                        © Wentworth Institute of Technology, Boston, MA 2023-2024\\n                     \\nBack to top\\n\\n\\n\\n\\n\\n \\n \\n\\n\\n\\nClose this window\\n\\nPrint Options\\n\\n\\n\\n\\nSend Page to Printer\\nPrint this page.\\n\\nDownload Page (PDF)The PDF will include all information unique to this page.WIT 2022-2023 Academic CatalogA PDF of the entire 2022-2023 academic catalog. \\n\\n\\n\\n\\n'"
      ]
     },
     "execution_count": 48,
     "metadata": {},
     "output_type": "execute_result"
    }
   ],
   "source": [
    "content[0].page_content"
   ]
  },
  {
   "cell_type": "code",
   "execution_count": 49,
   "metadata": {},
   "outputs": [],
   "source": [
    "text_splitter = RecursiveCharacterTextSplitter(\n",
    "    chunk_size=1000, chunk_overlap=200, add_start_index=True\n",
    ")\n",
    "all_splits = text_splitter.split_documents(content)"
   ]
  },
  {
   "cell_type": "code",
   "execution_count": 50,
   "metadata": {},
   "outputs": [
    {
     "data": {
      "text/plain": [
       "4"
      ]
     },
     "execution_count": 50,
     "metadata": {},
     "output_type": "execute_result"
    }
   ],
   "source": [
    "len(all_splits)"
   ]
  },
  {
   "cell_type": "code",
   "execution_count": 51,
   "metadata": {},
   "outputs": [
    {
     "data": {
      "text/plain": [
       "783"
      ]
     },
     "execution_count": 51,
     "metadata": {},
     "output_type": "execute_result"
    }
   ],
   "source": [
    "len(all_splits[0].page_content)"
   ]
  },
  {
   "cell_type": "code",
   "execution_count": 52,
   "metadata": {},
   "outputs": [],
   "source": [
    "vectorstore = Chroma.from_documents(documents=all_splits, embedding=OpenAIEmbeddings())"
   ]
  },
  {
   "cell_type": "code",
   "execution_count": 53,
   "metadata": {},
   "outputs": [],
   "source": [
    "retriever = vectorstore.as_retriever(search_type=\"similarity\", search_kwargs={\"k\": 6})\n",
    "retrieved_docs = retriever.invoke(\"What are the credit needed for the three year program for computer science?\")"
   ]
  },
  {
   "cell_type": "code",
   "execution_count": 54,
   "metadata": {},
   "outputs": [
    {
     "data": {
      "text/plain": [
       "6"
      ]
     },
     "execution_count": 54,
     "metadata": {},
     "output_type": "execute_result"
    }
   ],
   "source": [
    "len(retrieved_docs)"
   ]
  },
  {
   "cell_type": "code",
   "execution_count": 55,
   "metadata": {},
   "outputs": [
    {
     "name": "stdout",
     "output_type": "stream",
     "text": [
      "On This PageThree Year ProgramFour Year Program\n",
      "Three Year Program\n",
      "Total credits for degree: 120\n",
      "This is a three-year program, starting in the fall semester of the student’s first year and planned to end in the summer semester of the student’s third year. The courses are as follows:\n",
      "\n",
      "Plan of Study Grid\n",
      "\n",
      "\n",
      "\n",
      "\n",
      "Freshman Year\n",
      "Fall SemesterCredits\n",
      "COMP1000\n",
      "COMPUTER SCIENCE I\n",
      "4\n",
      "\n",
      "MATH1776\n",
      "CALCULUS 1A\n",
      "2\n",
      "\n",
      "MATH1777\n",
      "CALCULUS 1B\n",
      "2\n",
      "\n",
      "MATH2300\n",
      "DISCRETE MATHEMATICS\n",
      "4\n",
      "\n",
      "Science Elective 2\n",
      "4\n",
      "\n",
      "English Sequence*\n",
      "4\n",
      "\n",
      " Credits20\n",
      "Spring Semester\n",
      "COMP1050\n",
      "COMPUTER SCIENCE II\n",
      "4\n",
      "\n",
      "COMP1200\n",
      "COMPUTER ORGANIZATION\n",
      "4\n",
      "\n",
      "MATH1876\n",
      "CALCULUS 2A\n",
      "2\n",
      "\n",
      "MATH1877\n",
      "CALCULUS 2B\n",
      "2\n",
      "\n",
      "Science Elective 2\n",
      "4\n",
      "\n",
      "English Sequence*\n",
      "4\n",
      "\n",
      " Credits20\n",
      "Sophomore Year\n",
      "Fall Semester\n",
      "COMP2000\n",
      "DATA STRUCTURES\n",
      "4\n",
      "\n",
      "COMP2100\n",
      "NETWORK PROGRAMMING\n",
      "4\n",
      "\n",
      "COMP2650\n",
      "DATABASES\n",
      "4\n",
      "\n",
      "MATH2860\n",
      "LINEAR ALGEBRA & MATRIX THEORY\n",
      "4\n",
      "\n",
      "HSS Elective*\n",
      "4\n",
      "\n",
      " Credits20\n",
      "Spring Semester\n",
      "COMP2350\n",
      "ALGORITHMS\n",
      "4\n",
      "\n",
      "COMP3400\n",
      "OPERATING SYSTEMS\n",
      "4\n",
      "\n",
      "COMP Computer Science Elective 1\n",
      "4\n"
     ]
    }
   ],
   "source": [
    "print(retrieved_docs[0].page_content)"
   ]
  },
  {
   "cell_type": "code",
   "execution_count": 56,
   "metadata": {},
   "outputs": [],
   "source": [
    "from langchain_openai import ChatOpenAI\n",
    "\n",
    "llm = ChatOpenAI(model=\"gpt-3.5-turbo-0125\")"
   ]
  },
  {
   "cell_type": "code",
   "execution_count": 57,
   "metadata": {},
   "outputs": [],
   "source": [
    "prompt = hub.pull(\"rlm/rag-prompt\")"
   ]
  },
  {
   "cell_type": "code",
   "execution_count": 58,
   "metadata": {},
   "outputs": [],
   "source": [
    "def format_docs(docs):\n",
    "    return \"\\n\\n\".join(doc.page_content for doc in docs)\n",
    "\n",
    "\n",
    "rag_chain = (\n",
    "    {\"context\": retriever | format_docs, \"question\": RunnablePassthrough()}\n",
    "    | prompt\n",
    "    | llm\n",
    "    | StrOutputParser()\n",
    ")"
   ]
  },
  {
   "cell_type": "code",
   "execution_count": 59,
   "metadata": {},
   "outputs": [
    {
     "name": "stdout",
     "output_type": "stream",
     "text": [
      "The total credits needed for the three-year program in Computer Science are 120. The courses include Computer Science I, Calculus, Discrete Mathematics, Data Structures, Algorithms, and Operating Systems, among others. The program starts in the fall semester of the student's first year and ends in the summer semester of the student's third year."
     ]
    }
   ],
   "source": [
    "for chunk in rag_chain.stream(\"What are the credit needed for the three year program for computer science?\"):\n",
    "    print(chunk, end=\"\", flush=True)"
   ]
  },
  {
   "cell_type": "code",
   "execution_count": null,
   "metadata": {},
   "outputs": [],
   "source": []
  },
  {
   "cell_type": "code",
   "execution_count": null,
   "metadata": {},
   "outputs": [],
   "source": []
  },
  {
   "cell_type": "code",
   "execution_count": null,
   "metadata": {},
   "outputs": [],
   "source": []
  }
 ],
 "metadata": {
  "kernelspec": {
   "display_name": "Python 3",
   "language": "python",
   "name": "python3"
  },
  "language_info": {
   "codemirror_mode": {
    "name": "ipython",
    "version": 3
   },
   "file_extension": ".py",
   "mimetype": "text/x-python",
   "name": "python",
   "nbconvert_exporter": "python",
   "pygments_lexer": "ipython3",
   "version": "3.10.11"
  }
 },
 "nbformat": 4,
 "nbformat_minor": 2
}
