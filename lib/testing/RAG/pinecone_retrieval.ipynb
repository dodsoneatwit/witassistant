{
 "cells": [
  {
   "cell_type": "code",
   "execution_count": 1,
   "metadata": {},
   "outputs": [
    {
     "name": "stderr",
     "output_type": "stream",
     "text": [
      "C:\\Users\\dodsone\\AppData\\Local\\Packages\\PythonSoftwareFoundation.Python.3.10_qbz5n2kfra8p0\\LocalCache\\local-packages\\Python310\\site-packages\\pinecone\\data\\index.py:1: TqdmWarning: IProgress not found. Please update jupyter and ipywidgets. See https://ipywidgets.readthedocs.io/en/stable/user_install.html\n",
      "  from tqdm.autonotebook import tqdm\n"
     ]
    }
   ],
   "source": [
    "from langchain_openai import OpenAIEmbeddings\n",
    "from langchain_core.output_parsers import StrOutputParser\n",
    "from langchain_ai21 import AI21ContextualAnswers\n",
    "from langchain_pinecone import Pinecone\n",
    "import os"
   ]
  },
  {
   "cell_type": "markdown",
   "metadata": {},
   "source": [
    "## <b>PINECONE VECTOR DATABASE RETRIEVAL TESTING</b>\n",
    "# testing retrieval when embeddings already exist"
   ]
  },
  {
   "cell_type": "code",
   "execution_count": 2,
   "metadata": {},
   "outputs": [],
   "source": [
    "# API keys\n",
    "PINECONE_API_KEY = 'a7c4e75b-c3e3-4df0-862d-a9d22f030fe6'\n",
    "PINECONE_INDEX_NAME = 'aitwentyone'\n",
    "OPENAI_API_KEY = 'sk-proj-gnB8KP0GbrXROIZmAYRKT3BlbkFJveplnj1LUDtIpQcpH1ya'\n",
    "AI_TWENTYONE_API_KEY = \"XaZ0TkUk0Z8NiUMZGxcaD1HPmdeV5V1C\""
   ]
  },
  {
   "cell_type": "code",
   "execution_count": 3,
   "metadata": {},
   "outputs": [],
   "source": [
    "# Apply API keys for OpenAI, AI21, and Pinecone\n",
    "os.environ['OPENAI_API_KEY'] = OPENAI_API_KEY\n",
    "os.environ[\"AI21_API_KEY\"] = AI_TWENTYONE_API_KEY\n",
    "os.environ[\"PINECONE_API_KEY\"] = PINECONE_API_KEY\n",
    "os.environ[\"PINECONE_ENVIRONMENT\"] = \"\""
   ]
  },
  {
   "cell_type": "code",
   "execution_count": 4,
   "metadata": {},
   "outputs": [
    {
     "name": "stderr",
     "output_type": "stream",
     "text": [
      "C:\\Users\\dodsone\\AppData\\Local\\Packages\\PythonSoftwareFoundation.Python.3.10_qbz5n2kfra8p0\\LocalCache\\local-packages\\Python310\\site-packages\\langchain_core\\_api\\deprecation.py:119: LangChainDeprecationWarning: The class `Pinecone` was deprecated in LangChain 0.0.3 and will be removed in 0.2.0. Use PineconeVectorStore instead.\n",
      "  warn_deprecated(\n"
     ]
    }
   ],
   "source": [
    "# initializing Pinecone vector database instance\n",
    "docSearch = Pinecone(\n",
    "    index_name=PINECONE_INDEX_NAME,\n",
    "    embedding=OpenAIEmbeddings()\n",
    ")"
   ]
  },
  {
   "cell_type": "code",
   "execution_count": 11,
   "metadata": {},
   "outputs": [],
   "source": [
    "# Initialize AI21 contextual answer model\n",
    "tsm = AI21ContextualAnswers()\n",
    "\n",
    "# Chain the AI21 model with a string output parser\n",
    "\n",
    "chain = tsm | StrOutputParser()\n",
    "\n",
    "question = \"What are the courses for the first spring semester of the bachelors of IT?\"\n",
    "\n",
    "# Search for results within the database related to the question\n",
    "query_result = docSearch.max_marginal_relevance_search(question, k=10, fetch_k=50)\n",
    "found_docs = \"\"\n",
    "\n",
    "# Concatenate the content of the found documents\n",
    "for i, doc in enumerate(query_result):\n",
    "    found_docs = found_docs + doc.page_content + \" \"\n",
    "\n",
    "# Invoke a response from the queried data and context\n",
    "response = chain.invoke(\n",
    "    {\"context\": found_docs, \"question\": question},\n",
    ")"
   ]
  },
  {
   "cell_type": "code",
   "execution_count": null,
   "metadata": {},
   "outputs": [],
   "source": [
    "print(response)"
   ]
  }
 ],
 "metadata": {
  "kernelspec": {
   "display_name": "Python 3",
   "language": "python",
   "name": "python3"
  },
  "language_info": {
   "codemirror_mode": {
    "name": "ipython",
    "version": 3
   },
   "file_extension": ".py",
   "mimetype": "text/x-python",
   "name": "python",
   "nbconvert_exporter": "python",
   "pygments_lexer": "ipython3",
   "version": "3.10.11"
  }
 },
 "nbformat": 4,
 "nbformat_minor": 2
}
