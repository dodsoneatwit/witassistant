{
 "cells": [
  {
   "cell_type": "code",
   "execution_count": 7,
   "metadata": {},
   "outputs": [],
   "source": [
    "import os\n",
    "from dotenv import load_dotenv\n",
    "from langchain_community.document_loaders import WebBaseLoader\n",
    "from langchain_openai import OpenAIEmbeddings\n",
    "from langchain_ai21 import AI21SemanticTextSplitter\n",
    "from langchain_pinecone import PineconeVectorStore"
   ]
  },
  {
   "cell_type": "code",
   "execution_count": 8,
   "metadata": {},
   "outputs": [
    {
     "data": {
      "text/plain": [
       "True"
      ]
     },
     "execution_count": 8,
     "metadata": {},
     "output_type": "execute_result"
    }
   ],
   "source": [
    "# process .env file\n",
    "load_dotenv()"
   ]
  },
  {
   "cell_type": "code",
   "execution_count": 9,
   "metadata": {},
   "outputs": [],
   "source": [
    "# Access the environment variables\n",
    "openai_api_key = os.getenv('OPENAI_API_KEY')\n",
    "ai_twentyone_api_key = os.getenv('AI_TWENTYONE_API_KEY')\n",
    "pinecone_api_key = os.getenv('PINECONE_API_KEY')\n",
    "pc_index_wit = os.getenv('PINECONE_WIT_SEMANTIC')"
   ]
  },
  {
   "cell_type": "code",
   "execution_count": 10,
   "metadata": {},
   "outputs": [],
   "source": [
    "# Apple API keys to AI21, OpenAI, and Pinecone\n",
    "os.environ[\"AI21_API_KEY\"] = ai_twentyone_api_key\n",
    "os.environ['OPENAI_API_KEY'] = openai_api_key\n",
    "os.environ['PINECONE_API_KEY'] = pinecone_api_key"
   ]
  },
  {
   "cell_type": "code",
   "execution_count": 11,
   "metadata": {},
   "outputs": [],
   "source": [
    "# wikipedia link for scraping\n",
    "url = \"https://en.wikipedia.org/wiki/Wentworth_Institute_of_Technology\""
   ]
  },
  {
   "cell_type": "code",
   "execution_count": 12,
   "metadata": {},
   "outputs": [],
   "source": [
    "# initialize loader for scraping web content\n",
    "loader = WebBaseLoader(url)\n",
    "url_processed = loader.load()"
   ]
  },
  {
   "cell_type": "code",
   "execution_count": 13,
   "metadata": {},
   "outputs": [],
   "source": [
    "# initialize semantic splitter\n",
    "semantic_splitter = AI21SemanticTextSplitter(\n",
    "    chunk_size=50\n",
    ")\n",
    "\n",
    "# split content into chunks of set size\n",
    "all_splits = semantic_splitter.split_documents(url_processed)\n",
    "\n",
    "# initialize OpenAI's embedding model\n",
    "embeddings = OpenAIEmbeddings()"
   ]
  },
  {
   "cell_type": "code",
   "execution_count": 14,
   "metadata": {},
   "outputs": [
    {
     "data": {
      "text/plain": [
       "[Document(page_content='Wentworth Institute of Technology - Wikipedia\\n\\n\\n\\n\\n\\n\\n\\n\\n\\n\\n\\n\\n\\n\\n\\n\\n\\n\\n\\n\\n\\n\\n\\n\\n\\n\\n\\nJump to content\\n\\n\\n\\n\\n\\n\\n\\nMain menu\\n\\n\\n\\n\\n\\nMain menu\\nmove to sidebar\\nhide\\n\\n\\n\\n\\t\\tNavigation\\n\\t\\n\\n\\nMain pageContentsCurrent eventsRandom articleAbout WikipediaContact usDonate\\n\\n\\n\\n\\n\\n\\t\\tContribute\\n\\t\\n\\n\\nHelpLearn to editCommunity portalRecent changesUpload file\\n\\n\\n\\n\\n\\n\\n\\n\\n\\n\\n\\n\\n\\n\\n\\n\\n\\n\\n\\nSearch\\n\\n\\n\\n\\n\\n\\n\\n\\n\\n\\n\\nSearch\\n\\n\\n\\n\\n\\n\\n\\n\\n\\n\\n\\n\\n\\n\\n\\n\\n\\n\\n\\n\\n\\n\\nAppearance\\n\\n\\n\\n\\n\\n\\n\\n\\n\\n\\n\\n\\n\\n\\n\\n\\nCreate account\\n\\nLog in\\n\\n\\n\\n\\n\\n\\n\\n\\nPersonal tools\\n\\n\\n\\n\\n\\n Create account Log in\\n\\n\\n\\n\\n\\n\\t\\tPages for logged out editors learn more\\n\\n\\n\\nContributionsTalk\\n\\n\\n\\n\\n\\n\\n\\n\\n\\n\\n\\n\\n\\n\\n\\n\\n\\n\\n\\n\\n\\n\\n\\n\\n\\n\\n\\n\\nContents\\nmove to sidebar\\nhide\\n\\n\\n\\n\\n(Top)\\n\\n\\n\\n\\n\\n1', metadata={'source': 'https://en.wikipedia.org/wiki/Wentworth_Institute_of_Technology', 'title': 'Wentworth Institute of Technology - Wikipedia', 'language': 'en', 'source_type': 'non_english'}),\n",
       " Document(page_content='History\\n\\n\\n\\n\\n\\n\\n\\n\\n2\\nCampus\\n\\n\\n\\n\\n\\n\\n\\n\\n3\\nStudent life\\n\\n\\n\\n\\nToggle Student life subsection\\n\\n\\n\\n\\n\\n3.1\\nEnrollment\\n\\n\\n\\n\\n\\n\\n\\n\\n3.2\\nAthletics\\n\\n\\n\\n\\n\\n\\n\\n\\n\\n\\n4\\nNotable alumni\\n\\n\\n\\n\\n\\n\\n\\n\\n5\\nReferences\\n\\n\\n\\n\\n\\n\\n\\n\\n6\\nExternal links\\n\\n\\n\\n\\n\\n\\n\\n\\n\\n\\n\\n\\n\\n\\n\\n\\n\\n\\nToggle the table of contents\\n\\n\\n\\n\\n\\n\\n\\nWentworth Institute of Technology\\n\\n\\n\\n2 languages\\n\\n\\n\\n\\nNorsk bokmål中文\\n\\nEdit links\\n\\n\\n\\n\\n\\n\\n\\n\\n\\n\\n\\nArticleTalk\\n\\n\\n\\n\\n\\nEnglish\\n\\n\\n\\n\\n\\n\\n\\n\\n\\n\\n\\n\\n\\n\\n\\n\\n\\nReadEditView history\\n\\n\\n\\n\\n\\n\\n\\nTools\\n\\n\\n\\n\\n\\nTools\\nmove to sidebar\\nhide\\n\\n\\n\\n\\t\\tActions\\n\\t\\n\\n\\nReadEditView history\\n\\n\\n\\n\\n\\n\\t\\tGeneral\\n\\t\\n\\n\\nWhat links hereRelated changesUpload fileSpecial pagesPermanent linkPage informationCite this pageGet shortened URLDownload QR codeWikidata item\\n\\n\\n\\n\\n\\n\\t\\tPrint/export\\n\\t\\n\\n\\nDownload as PDFPrintable version', metadata={'source': 'https://en.wikipedia.org/wiki/Wentworth_Institute_of_Technology', 'title': 'Wentworth Institute of Technology - Wikipedia', 'language': 'en', 'source_type': 'non_english'}),\n",
       " Document(page_content='In other projects\\n\\t\\n\\n\\nWikimedia Commons\\n\\n\\n\\n\\n\\n\\n\\n\\n\\n\\n\\n\\n\\n\\n\\n\\n\\n\\n\\n\\n\\nAppearance\\nmove to sidebar\\nhide\\n\\n\\n\\n\\n\\n\\n\\n\\n\\nCoordinates: 42°20′12″N 71°05′42″W\\ufeff / \\ufeff42.336611°N 71.095019°W\\ufeff / 42.336611; -71.095019\\n\\nFrom Wikipedia, the free encyclopedia\\n\\n\\nPrivate university in Boston, Massachusetts, US\\nThis article needs additional citations for verification.', metadata={'source': 'https://en.wikipedia.org/wiki/Wentworth_Institute_of_Technology', 'title': 'Wentworth Institute of Technology - Wikipedia', 'language': 'en', 'source_type': 'non_english'}),\n",
       " Document(page_content='Please help improve this article by adding citations to reliable sources.\\n\\nUnsourced material may be challenged and removed.\\n\\nFind sources:\\xa0\"Wentworth Institute of Technology\"\\xa0–\\xa0news\\xa0· newspapers\\xa0· books\\xa0· scholar\\xa0· JSTOR (October 2016) (Learn how and when to remove this message)', metadata={'source': 'https://en.wikipedia.org/wiki/Wentworth_Institute_of_Technology', 'title': 'Wentworth Institute of Technology - Wikipedia', 'language': 'en', 'source_type': 'normal_text'}),\n",
       " Document(page_content='Wentworth Institute of TechnologyFormer namesWentworth Institute (1904–1977)MottoHonesty, Energy, Economy, System[1]TypePrivate universityEstablished1904; 120\\xa0years ago\\xa0(1904)[2]Endowment$116.6 million (2020)[3]PresidentMark A. Thompson[4]ProvostSophia Maggelakis[5]Academic staff134[6]Undergraduates4,576[6]LocationBoston, Massachusetts, United StatesCampusUrban, 31 acres (13\\xa0ha)[6]AthleticsNCAA Division III[7]17 varsity teams[8]ColorsWentworth Gold and Rich Black[9] \\xa0 \\xa0Sporting affiliationsNCAA Division III - CCCNEISAMascotLeopard[7]Websitewit.edu', metadata={'source': 'https://en.wikipedia.org/wiki/Wentworth_Institute_of_Technology', 'title': 'Wentworth Institute of Technology - Wikipedia', 'language': 'en', 'source_type': 'normal_text'}),\n",
       " Document(page_content='Wentworth Institute of Technology (WIT) is a private university in Boston, Massachusetts.\\n\\nWentworth was founded in 1904 and offers career-focused education through 22 bachelor\\'s degree programs as well as 11 master\\'s degrees.[10]\\n\\n\\nHistory[edit]\\nWentworth\\'s quad\\nIn 1903, Boston businessman Arioch Wentworth donated the majority of his estate, estimated at $7 million, to found an industrial school within Boston.[11]\\n\\nA board of seven directors incorporated  Wentworth Institute on April 5, 1904, as a school \"to furnish education in the mechanical arts\".[12]\\n\\nThe directors spent several years investigating the educational needs of the community, increased the endowment, and reached a settlement with Wentworth\\'s daughter, who had contested his will.\\n\\nFrederick Atherton was Trustee Secretary.[13][14][15]\\n\\nThe campus was established in Boston\\'s Back Bay Fens, and Arthur L. Williston was the first principal of the college.\\n\\nOn September 25, 1911, Wentworth opened as a technical school to 242 students.\\n\\nBy 1919 the school had 1,800 students and 45 teachers.[16]\\n\\nWentworth became a degree-granting institution in 1957 and awarded its first baccalaureate-level degrees in 1970.\\n\\nIn 1972, the institute admitted its first female students.', metadata={'source': 'https://en.wikipedia.org/wiki/Wentworth_Institute_of_Technology', 'title': 'Wentworth Institute of Technology - Wikipedia', 'language': 'en', 'source_type': 'normal_text'}),\n",
       " Document(page_content=\"In 1973, Wentworth instructors unionized to join the American Federation of Teachers and on October 28, 1977, the teachers of Wentworth went on strike.[17] In 1977, the college's lower and upper divisions merged as the Wentworth Institute of Technology.[17]\\n\\nWentworth acquired the former Ira Allen School building from the city of Boston in 1980 and the former Boston Trade High School in 1983.\", metadata={'source': 'https://en.wikipedia.org/wiki/Wentworth_Institute_of_Technology', 'title': 'Wentworth Institute of Technology - Wikipedia', 'language': 'en', 'source_type': 'normal_text'}),\n",
       " Document(page_content=\"In November 2009, Wentworth became a master's degree-granting institution, with the creation and accreditation of its master of architecture program.[18]\\n\\nWentworth received approval for university status from the Massachusetts Department of Higher Education in July 2017.[19]\\nMark A. Thompson became the fifth president of Wentworth Institute of Technology on June 1, 2019.\\n\\nHe succeeded Zorica Pantic, who was the first female engineer to head an institute of technology in higher education in the United States.\", metadata={'source': 'https://en.wikipedia.org/wiki/Wentworth_Institute_of_Technology', 'title': 'Wentworth Institute of Technology - Wikipedia', 'language': 'en', 'source_type': 'normal_text'}),\n",
       " Document(page_content=\"As of January 2024, Wentworth offers bachelor's degrees in 22 engineering, technology, design, and management disciplines.\\n\\nWentworth also offers 11 master's degrees, seven of which have an online option.[10]\\n\\nIn 2024, Wentworth was ranked #33 amongst Regional Universities North by U.S. News & World Report.[20]\\n\\nCampus[edit ]\\nWentworth's Douglas D. Schumann Library & Learning Commons\\nThe Wentworth campus is located in the Fenway neighborhood of Boston.[6] It consists of 15 buildings for administrative and faculty offices, classrooms, laboratories, library, and athletic facilities.\\n\\nStudents enrolled for full-time study may live in one of seven residence halls near the main campus buildings.\\n\\nThe institute's collaborating neighbors include the Massachusetts College of Art and Design, Northeastern University, the Massachusetts College of Pharmacy and Health Sciences, and the Museum of Fine Arts.\", metadata={'source': 'https://en.wikipedia.org/wiki/Wentworth_Institute_of_Technology', 'title': 'Wentworth Institute of Technology - Wikipedia', 'language': 'en', 'source_type': 'normal_text'}),\n",
       " Document(page_content=\"Wentworth is a member of the Colleges of the Fenway consortium, and shares many facilities and activities with nearby institutions.[21] With this membership, Wentworth students are entitled to register for course with participating neighboring institutions at no additional cost.[22]\\n\\nStudent life[edit]\\nEnrollment[edit]\\nTotal enrollment (2022): 3,920 total (3,713 undergraduate and 207 graduate students)[23]\\n\\nMen: 77%\\nWomen: 23%\\nAthletics[edit]\\nWentworth Institute of Technology's athletic teams are nicknamed the Leopards.\\n\\nWentworth is a member of the NCAA Division III and participates in the Commonwealth Coast Conference as a non-football member.\", metadata={'source': 'https://en.wikipedia.org/wiki/Wentworth_Institute_of_Technology', 'title': 'Wentworth Institute of Technology - Wikipedia', 'language': 'en', 'source_type': 'normal_text'}),\n",
       " Document(page_content='In 2023, Jared M. Pierce made history at Wentworth by become the first two-time All American, in Track & Field, from the university.\\n\\nHe finished 8th place in the shot-put at both the Indoor and Outdoor NCAA Division III National Championships.', metadata={'source': 'https://en.wikipedia.org/wiki/Wentworth_Institute_of_Technology', 'title': 'Wentworth Institute of Technology - Wikipedia', 'language': 'en', 'source_type': 'normal_text'}),\n",
       " Document(page_content='Notable alumni[edit]\\nVahe Aghabegians, technology adviser to the Armenian government\\nLuther Blount (MC&TD \\'37), entrepreneur, prolific inventor\\nGeorge Chamillard (IE \\'58), former chairman and CEO of Teradyne, Inc.[24]\\nRussell Colley (MC&TD \\'18), prolific inventor, NASA engineer, inventor of silver nylon space suit used in first crewed space flight\\nJohn B. Kennedy, city manager, politician\\nJoe Lauzon (BCOS \\'06), professional mixed martial artist, competing in the UFC\\'s Lightweight Division[25]\\nDavid Lovering (EET \\'82), musician, drummer for the Pixies\\nStephen F. Lynch (CMW \\'88), United States Representative from Massachusetts\\nCindy Stumpo, American entrepreneur and residential contractor numerous national publications\\nJohn A. Volpe (AC \\'30), Governor of Massachusetts, United States Secretary of Transportation, namesake of the John A. Volpe National Transportation Systems Center\\nReferences[edit]\\n\\n\\n^ \"Wentworth Institute of Technology: Mission and Values\".\\n\\nArchived from the original on 2007-02-12.', metadata={'source': 'https://en.wikipedia.org/wiki/Wentworth_Institute_of_Technology', 'title': 'Wentworth Institute of Technology - Wikipedia', 'language': 'en', 'source_type': 'normal_text'}),\n",
       " Document(page_content='Retrieved 2009-11-08.', metadata={'source': 'https://en.wikipedia.org/wiki/Wentworth_Institute_of_Technology', 'title': 'Wentworth Institute of Technology - Wikipedia', 'language': 'en', 'source_type': 'non_english'}),\n",
       " Document(page_content='^ \"About Wentworth | Wentworth Institute of Technology\".\\n\\nWit.edu.', metadata={'source': 'https://en.wikipedia.org/wiki/Wentworth_Institute_of_Technology', 'title': 'Wentworth Institute of Technology - Wikipedia', 'language': 'en', 'source_type': 'normal_text_short'}),\n",
       " Document(page_content='Retrieved 2016-10-28.', metadata={'source': 'https://en.wikipedia.org/wiki/Wentworth_Institute_of_Technology', 'title': 'Wentworth Institute of Technology - Wikipedia', 'language': 'en', 'source_type': 'non_english'}),\n",
       " Document(page_content='^ As of June 30, 2020.\\n\\nU.S. and Canadian Institutions Listed by Fiscal Year 2020 Endowment Market Value and Change in Endowment Market Value from FY19 to FY20 (Report).\\n\\nNational Association of College and University Business Officers and TIAA.\\n\\nFebruary 19, 2021.\\n\\nRetrieved February 20, 2021.\\n\\n^ \"Facts & Figures\".', metadata={'source': 'https://en.wikipedia.org/wiki/Wentworth_Institute_of_Technology', 'title': 'Wentworth Institute of Technology - Wikipedia', 'language': 'en', 'source_type': 'normal_text'}),\n",
       " Document(page_content='Retrieved 2019-01-03.', metadata={'source': 'https://en.wikipedia.org/wiki/Wentworth_Institute_of_Technology', 'title': 'Wentworth Institute of Technology - Wikipedia', 'language': 'en', 'source_type': 'non_english'}),\n",
       " Document(page_content='^ \"Sophia Maggelakis Named New Provost at Wentworth | Wentworth\".\\n\\n^ a b c d \"About Wentworth | Wentworth Institute of Technology\".\\n\\nWit.edu.', metadata={'source': 'https://en.wikipedia.org/wiki/Wentworth_Institute_of_Technology', 'title': 'Wentworth Institute of Technology - Wikipedia', 'language': 'en', 'source_type': 'normal_text_short'}),\n",
       " Document(page_content='Retrieved 2016-10-28.', metadata={'source': 'https://en.wikipedia.org/wiki/Wentworth_Institute_of_Technology', 'title': 'Wentworth Institute of Technology - Wikipedia', 'language': 'en', 'source_type': 'non_english'}),\n",
       " Document(page_content='^ a b \"Wentworth Institute of Technology: Athletics > General Information\".\\n\\nArchived from the original on 2010-02-11.', metadata={'source': 'https://en.wikipedia.org/wiki/Wentworth_Institute_of_Technology', 'title': 'Wentworth Institute of Technology - Wikipedia', 'language': 'en', 'source_type': 'normal_text_short'}),\n",
       " Document(page_content='Retrieved 2009-11-08.', metadata={'source': 'https://en.wikipedia.org/wiki/Wentworth_Institute_of_Technology', 'title': 'Wentworth Institute of Technology - Wikipedia', 'language': 'en', 'source_type': 'non_english'}),\n",
       " Document(page_content='^ \"Wentworth Institute of Technology: About Us\".\\n\\nArchived from the original on 2009-10-01.', metadata={'source': 'https://en.wikipedia.org/wiki/Wentworth_Institute_of_Technology', 'title': 'Wentworth Institute of Technology - Wikipedia', 'language': 'en', 'source_type': 'normal_text_short'}),\n",
       " Document(page_content='Retrieved 2009-11-08.', metadata={'source': 'https://en.wikipedia.org/wiki/Wentworth_Institute_of_Technology', 'title': 'Wentworth Institute of Technology - Wikipedia', 'language': 'en', 'source_type': 'non_english'}),\n",
       " Document(page_content='^ \"Wentworth Branding Guidelines\".\\n\\nWit.edu.', metadata={'source': 'https://en.wikipedia.org/wiki/Wentworth_Institute_of_Technology', 'title': 'Wentworth Institute of Technology - Wikipedia', 'language': 'en', 'source_type': 'non_english'}),\n",
       " Document(page_content='Retrieved 2024-03-06.', metadata={'source': 'https://en.wikipedia.org/wiki/Wentworth_Institute_of_Technology', 'title': 'Wentworth Institute of Technology - Wikipedia', 'language': 'en', 'source_type': 'non_english'}),\n",
       " Document(page_content='^ a b \"Programs of Study | Wentworth\".\\n\\nwit.edu.', metadata={'source': 'https://en.wikipedia.org/wiki/Wentworth_Institute_of_Technology', 'title': 'Wentworth Institute of Technology - Wikipedia', 'language': 'en', 'source_type': 'normal_text_short'}),\n",
       " Document(page_content='Retrieved 2024-01-12.', metadata={'source': 'https://en.wikipedia.org/wiki/Wentworth_Institute_of_Technology', 'title': 'Wentworth Institute of Technology - Wikipedia', 'language': 'en', 'source_type': 'non_english'}),\n",
       " Document(page_content='^ \"Millions To Found School\".\\n\\nThe New York Times.\\n\\nMarch 23, 1903.', metadata={'source': 'https://en.wikipedia.org/wiki/Wentworth_Institute_of_Technology', 'title': 'Wentworth Institute of Technology - Wikipedia', 'language': 'en', 'source_type': 'non_english'}),\n",
       " Document(page_content='Retrieved 2016-10-28.', metadata={'source': 'https://en.wikipedia.org/wiki/Wentworth_Institute_of_Technology', 'title': 'Wentworth Institute of Technology - Wikipedia', 'language': 'en', 'source_type': 'non_english'}),\n",
       " Document(page_content='^ Olin, Wm. M. (1904-04-05).\\n\\n\"Charter of the Wentworth Institute\".\\n\\nCommonwealth of Massachusetts.\\n\\nArchived from the original (JPG) on 2012-08-05.', metadata={'source': 'https://en.wikipedia.org/wiki/Wentworth_Institute_of_Technology', 'title': 'Wentworth Institute of Technology - Wikipedia', 'language': 'en', 'source_type': 'non_english'}),\n",
       " Document(page_content='Retrieved 2009-01-30.', metadata={'source': 'https://en.wikipedia.org/wiki/Wentworth_Institute_of_Technology', 'title': 'Wentworth Institute of Technology - Wikipedia', 'language': 'en', 'source_type': 'non_english'}),\n",
       " Document(page_content='^ \"Millionaire Left Two Wills\" (PDF).\\n\\nNew York Times.\\n\\nMarch 24, 1903.', metadata={'source': 'https://en.wikipedia.org/wiki/Wentworth_Institute_of_Technology', 'title': 'Wentworth Institute of Technology - Wikipedia', 'language': 'en', 'source_type': 'non_english'}),\n",
       " Document(page_content='^ \"Contest for Boston Fortune\" (PDF).\\n\\nNew York Times.\\n\\nDecember 1, 1903.', metadata={'source': 'https://en.wikipedia.org/wiki/Wentworth_Institute_of_Technology', 'title': 'Wentworth Institute of Technology - Wikipedia', 'language': 'en', 'source_type': 'non_english'}),\n",
       " Document(page_content='^ \"Wentworth Institute of Technology History\".\\n\\n2006. Archived from the original on 2007-12-11.', metadata={'source': 'https://en.wikipedia.org/wiki/Wentworth_Institute_of_Technology', 'title': 'Wentworth Institute of Technology - Wikipedia', 'language': 'en', 'source_type': 'normal_text_short'}),\n",
       " Document(page_content='^ The Handbook of Private Schools. 1919.\\n\\np.\\xa0297.', metadata={'source': 'https://en.wikipedia.org/wiki/Wentworth_Institute_of_Technology', 'title': 'Wentworth Institute of Technology - Wikipedia', 'language': 'en', 'source_type': 'normal_text_short'}),\n",
       " Document(page_content='Retrieved 2016-10-28.', metadata={'source': 'https://en.wikipedia.org/wiki/Wentworth_Institute_of_Technology', 'title': 'Wentworth Institute of Technology - Wikipedia', 'language': 'en', 'source_type': 'non_english'}),\n",
       " Document(page_content='^ a b Clifford, Joseph P. A Century of Honesty, Energy, Economy, System: Wentworth Institute of Technology, 1904–2004.\\n\\nBoston: Wentworth Institute of Technology, 2003.\\n\\nPrint.', metadata={'source': 'https://en.wikipedia.org/wiki/Wentworth_Institute_of_Technology', 'title': 'Wentworth Institute of Technology - Wikipedia', 'language': 'en', 'source_type': 'normal_text_short'}),\n",
       " Document(page_content='^ \"Wentworth Becomes Master\\'s Degree Granting Institution\".\\n\\nPrnewswire.com.', metadata={'source': 'https://en.wikipedia.org/wiki/Wentworth_Institute_of_Technology', 'title': 'Wentworth Institute of Technology - Wikipedia', 'language': 'en', 'source_type': 'normal_text_short'}),\n",
       " Document(page_content='Retrieved 2016-10-28.', metadata={'source': 'https://en.wikipedia.org/wiki/Wentworth_Institute_of_Technology', 'title': 'Wentworth Institute of Technology - Wikipedia', 'language': 'en', 'source_type': 'non_english'}),\n",
       " Document(page_content='^ \"Wentworth Earns \\'University\\' Status\".\\n\\nWentworth Institute of Technology.\\n\\nAugust 2, 2017.', metadata={'source': 'https://en.wikipedia.org/wiki/Wentworth_Institute_of_Technology', 'title': 'Wentworth Institute of Technology - Wikipedia', 'language': 'en', 'source_type': 'non_english'}),\n",
       " Document(page_content='^ \"Wentworth Institute of Technology Rankings\".\\n\\nU.S. News & World Report.', metadata={'source': 'https://en.wikipedia.org/wiki/Wentworth_Institute_of_Technology', 'title': 'Wentworth Institute of Technology - Wikipedia', 'language': 'en', 'source_type': 'normal_text_short'}),\n",
       " Document(page_content='Retrieved 2024-01-12.', metadata={'source': 'https://en.wikipedia.org/wiki/Wentworth_Institute_of_Technology', 'title': 'Wentworth Institute of Technology - Wikipedia', 'language': 'en', 'source_type': 'non_english'}),\n",
       " Document(page_content='^ \"Wentworth web page on Colleges of the Fenway\".', metadata={'source': 'https://en.wikipedia.org/wiki/Wentworth_Institute_of_Technology', 'title': 'Wentworth Institute of Technology - Wikipedia', 'language': 'en', 'source_type': 'normal_text_short'}),\n",
       " Document(page_content='^ \"Cross-Registration\".', metadata={'source': 'https://en.wikipedia.org/wiki/Wentworth_Institute_of_Technology', 'title': 'Wentworth Institute of Technology - Wikipedia', 'language': 'en', 'source_type': 'non_english'}),\n",
       " Document(page_content='Retrieved 2021-10-14.', metadata={'source': 'https://en.wikipedia.org/wiki/Wentworth_Institute_of_Technology', 'title': 'Wentworth Institute of Technology - Wikipedia', 'language': 'en', 'source_type': 'non_english'}),\n",
       " Document(page_content='^ \"Wentworth Institute of Technology Student Life\".\\n\\nUS News & World Report.', metadata={'source': 'https://en.wikipedia.org/wiki/Wentworth_Institute_of_Technology', 'title': 'Wentworth Institute of Technology - Wikipedia', 'language': 'en', 'source_type': 'normal_text_short'}),\n",
       " Document(page_content='Retrieved 2024-02-13.', metadata={'source': 'https://en.wikipedia.org/wiki/Wentworth_Institute_of_Technology', 'title': 'Wentworth Institute of Technology - Wikipedia', 'language': 'en', 'source_type': 'non_english'}),\n",
       " Document(page_content='^ \"Kings of the Hill\".\\n\\nArchived from the original on 2010-11-17.', metadata={'source': 'https://en.wikipedia.org/wiki/Wentworth_Institute_of_Technology', 'title': 'Wentworth Institute of Technology - Wikipedia', 'language': 'en', 'source_type': 'normal_text_short'}),\n",
       " Document(page_content='Retrieved 2009-11-08.', metadata={'source': 'https://en.wikipedia.org/wiki/Wentworth_Institute_of_Technology', 'title': 'Wentworth Institute of Technology - Wikipedia', 'language': 'en', 'source_type': 'non_english'}),\n",
       " Document(page_content='^ \"Joe Lauzon - Official UFC® Fighter Profile\".\\n\\nUfc.com.', metadata={'source': 'https://en.wikipedia.org/wiki/Wentworth_Institute_of_Technology', 'title': 'Wentworth Institute of Technology - Wikipedia', 'language': 'en', 'source_type': 'normal_text_short'}),\n",
       " Document(page_content='Retrieved 2016-10-28.', metadata={'source': 'https://en.wikipedia.org/wiki/Wentworth_Institute_of_Technology', 'title': 'Wentworth Institute of Technology - Wikipedia', 'language': 'en', 'source_type': 'non_english'}),\n",
       " Document(page_content='External links[edit]\\n\\n\\n\\nWikimedia Commons has media related to Wentworth Institute of Technology.', metadata={'source': 'https://en.wikipedia.org/wiki/Wentworth_Institute_of_Technology', 'title': 'Wentworth Institute of Technology - Wikipedia', 'language': 'en', 'source_type': 'non_english'}),\n",
       " Document(page_content=\"Official website\\n42°20′12″N 71°05′42″W\\ufeff / \\ufeff42.336611°N 71.095019°W\\ufeff / 42.336611; -71.095019\\n\\nvteColleges of the Fenway\\nEmmanuel College\\nMassachusetts College of Art\\nMassachusetts College of Pharmacy and Health Sciences\\nSimmons University\\nWentworth Institute of Technology\\nWheelock College\\n\\nvteAssociation of Independent Colleges and Universities in Massachusetts (AICUM)\\nAmherst\\nAnna Maria\\nAssumption\\nBabson\\nBay Path\\nBenjamin F. Cummings\\nBentley\\nBerklee\\nBoston Architectural\\nBoston College\\nBoston Graduate\\nBoston U\\nBrandeis\\nCambridge College\\nClark\\nCollege of the Holy Cross\\nCurry\\nDean\\nEastern Nazarene\\nElms\\nEmerson\\nEmmanuel\\nEndicott\\nFisher\\nGordon\\nHampshire\\nHarvard\\nLabouré\\nLasell\\nLesley\\nMCPHS\\nMIT\\nMerrimack\\nMGH Institute\\nMontserrat\\nMount Holyoke\\nNECO\\nNew England Conservatory\\nNewbury\\nNichols\\nNortheastern\\nOlin\\nPine Manor\\nRegis\\nSimmons\\nSmith\\nSpringfield\\nStonehill\\nSuffolk\\nThomas Aquinas\\nTufts\\nUrban College of Boston\\nWellesley\\nWIT\\nWestern New England\\nWheaton\\nWilliam James\\nWilliams\\nWPI\\n\\nvteInstitutes of technology, polytechnics, and technological universities in the United StatesPublic\\nAir Force Institute of Technology\\nASU Polytechnic School\\nArkansas Tech\\nCal Poly (Humboldt, Pomona, and San Luis Obispo)\\nColorado Mines\\nFlorida Poly\\nGeorgia Tech\\nIowa State\\nK-State Salina\\nLouisiana Tech\\nMichigan Tech\\nMissouri S&T\\nMontana Tech\\nNew Jersey Institute of Technology\\nNew Mexico Tech\\nOklahoma State University Institute of Technology\\nOregon Tech\\nSouth Dakota Mines\\nSouthern Poly\\nSUNY Poly\\nTennessee Tech\\nTexas Tech\\nUtah Tech\\nUW–Stout\\nVirginia Tech\\nWichita State\\nWVU Tech\\nPrivate\\nCaltech\\nCapitol Tech\\nClarkson\\nFlorida Tech\\nHarrisburg\\nHarvey Mudd\\nIllinois Tech\\nIndiana Tech\\nKettering\\nLawrence Tech\\nMIT\\nNew England Tech\\nNYIT\\nRensselaer\\nRIT\\nRose–Hulman\\nSan Francisco Bay\\nStevens\\nWashburn\\nWentworth\\nWPI\\n\\nvteColleges and universities in metropolitan Boston\\nBabson College\\nBenjamin Franklin Institute of Technology\\nBentley University\\nBerklee College of Music\\nBoston Architectural College\\nBoston Baptist College\\nBoston College\\nBoston Conservatory\\nBoston Graduate School of Psychoanalysis\\nBoston University\\nBrandeis University\\nBunker Hill Community College\\nCambridge College\\nCurry College\\nEastern Nazarene College\\nEmerson College\\nEmmanuel College\\nFisher College\\nHarvard University\\nHebrew College\\nHellenic College\\nHult International Business School\\nLabouré College\\nLasell University\\nLesley University\\nLongy School of Music\\nMassachusetts Bay Community College\\nMassachusetts College of Art and Design\\nMassachusetts College of Pharmacy and Health Sciences\\nMassachusetts Institute of Technology\\nMGH Institute\\nNew England College of Optometry\\nNew England Conservatory of Music\\nNew England School of Law\\nNortheastern University\\nNorth Shore Community College\\nQuincy College\\nRoxbury Community College\\nSt. John's Seminary\\nSimmons University\\nSuffolk University\\nTufts University\\nUniversity of Massachusetts Boston\\nUrban College of Boston\\nWentworth Institute of Technology\\nWilliam James College\\n\\nvteCommonwealth Coast ConferenceCurrent full members\\nCurry Colonels\\nEndicott Gulls\\nGordon Fighting Scots (non-football and ice hockey member)\\nHartford Hawks (non-football and ice hockey member)\\nUniversity of New England (ME) Nor'easters (non-tennis member)\", metadata={'source': 'https://en.wikipedia.org/wiki/Wentworth_Institute_of_Technology', 'title': 'Wentworth Institute of Technology - Wikipedia', 'language': 'en', 'source_type': 'non_english'}),\n",
       " Document(page_content='Nichols Bison\\nRoger Williams Hawks (non-football and ice hockey member) Suffolk Rams (non-football and lacrosse member)\\nWentworth Leopards (non-football member) Western New England Golden Bears\\nCurrent associate member\\nHusson Eagles (football)', metadata={'source': 'https://en.wikipedia.org/wiki/Wentworth_Institute_of_Technology', 'title': 'Wentworth Institute of Technology - Wikipedia', 'language': 'en', 'source_type': 'normal_text_short'}),\n",
       " Document(page_content=\"See also\\nCommonwealth Coast Football\\n\\nvteGreat Northeast Athletic ConferenceFull members\\nAlbertus Magnus Falcons\\nAnna Maria Amcats\\nColby-Sawyer Chargers\\nDean Bulldogs\\nElms Blazers\\nEmmanuel Saints\\nJohnson & Wales Wildcats\\nLasell Lasers\\nNorwich Cadets\\nRegis Pride\\nRivier Raiders\\nSaint Joseph (CT) Blue Jays\\nSaint Joseph's (ME) Monks\\nSimmons Sharks\\nAssociate members\\nEastern Nazarene Lions (men's tennis)\\nHusson Eagles (swimming & diving)\", metadata={'source': 'https://en.wikipedia.org/wiki/Wentworth_Institute_of_Technology', 'title': 'Wentworth Institute of Technology - Wikipedia', 'language': 'en', 'source_type': 'non_english'}),\n",
       " Document(page_content='Rhode Island College Anchormen (men\\'s golf)\\nSouthern Maine Huskies (men\\'s golf)\\nUMass Dartmouth Corsairs (men\\'s golf) Wentworth Leopards (men\\'s volleyball)\\nFormer members\\nDaniel Webster Eagles\\nEndicott Gulls\\nEmerson Lions\\nMount Ida Mustangs\\nPine Manor Gators\\nSouthern Vermont Mountaineers\\nSuffolk Rams\\nWestern New England Golden Bears\\n\\nAuthority control databases International\\nISNI\\nVIAF\\nNational\\nUnited States\\n\\n\\n\\n\\n\\nRetrieved from \"https://en.wikipedia.org/w/index.php?title=Wentworth_Institute_of_Technology&oldid=1220316474\"\\nCategories: Wentworth Institute of TechnologyUniversities and colleges in BostonUniversities and colleges established in 1904Engineering universities and colleges in MassachusettsPrivate universities and colleges in Massachusetts1904 establishments in MassachusettsHidden categories: Pages using gadget WikiMiniAtlasArticles with short descriptionShort description is different from WikidataArticles needing additional references from October 2016All articles needing additional referencesArticles using infobox universityPages using infobox university with the affiliations parameterCommons category link from WikidataCoordinates on WikidataArticles with ISNI identifiersArticles with VIAF identifiersArticles with LCCN identifiers\\n\\n\\n\\n\\n\\n\\n This page was last edited on 23 April 2024, at 01:09\\xa0(UTC).\\n\\nText is available under the Creative Commons Attribution-ShareAlike License 4.0;\\nadditional terms may apply.\\n\\nBy using this site, you agree to the Terms of Use and Privacy Policy.', metadata={'source': 'https://en.wikipedia.org/wiki/Wentworth_Institute_of_Technology', 'title': 'Wentworth Institute of Technology - Wikipedia', 'language': 'en', 'source_type': 'normal_text'}),\n",
       " Document(page_content='Wikipedia® is a registered trademark of the Wikimedia Foundation, Inc., a non-profit organization.', metadata={'source': 'https://en.wikipedia.org/wiki/Wentworth_Institute_of_Technology', 'title': 'Wentworth Institute of Technology - Wikipedia', 'language': 'en', 'source_type': 'normal_text_short'}),\n",
       " Document(page_content='Privacy policy\\nAbout Wikipedia\\nDisclaimers\\nContact Wikipedia\\nCode of Conduct\\nDevelopers\\nStatistics\\nCookie statement\\nMobile view', metadata={'source': 'https://en.wikipedia.org/wiki/Wentworth_Institute_of_Technology', 'title': 'Wentworth Institute of Technology - Wikipedia', 'language': 'en', 'source_type': 'non_english'})]"
      ]
     },
     "execution_count": 14,
     "metadata": {},
     "output_type": "execute_result"
    }
   ],
   "source": [
    "# print splits\n",
    "all_splits"
   ]
  },
  {
   "cell_type": "code",
   "execution_count": 15,
   "metadata": {},
   "outputs": [],
   "source": [
    "# insert splits into Pinecone vector database as embeddings\n",
    "docsearch = PineconeVectorStore.from_documents(all_splits, embeddings, index_name=pc_index_wit)"
   ]
  }
 ],
 "metadata": {
  "kernelspec": {
   "display_name": "Python 3",
   "language": "python",
   "name": "python3"
  },
  "language_info": {
   "codemirror_mode": {
    "name": "ipython",
    "version": 3
   },
   "file_extension": ".py",
   "mimetype": "text/x-python",
   "name": "python",
   "nbconvert_exporter": "python",
   "pygments_lexer": "ipython3",
   "version": "3.10.11"
  }
 },
 "nbformat": 4,
 "nbformat_minor": 2
}
