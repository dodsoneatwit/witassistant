{
 "cells": [
  {
   "cell_type": "code",
   "execution_count": 87,
   "metadata": {},
   "outputs": [],
   "source": [
    "from langchain_community.document_loaders import TextLoader\n",
    "from langchain_text_splitters import CharacterTextSplitter\n",
    "from langchain_ai21 import AI21SemanticTextSplitter\n",
    "from langchain_text_splitters import RecursiveCharacterTextSplitter\n",
    "from langchain_chroma import Chroma\n",
    "from langchain_openai import OpenAIEmbeddings\n",
    "from langchain_openai import ChatOpenAI\n",
    "from langchain_core.output_parsers import StrOutputParser\n",
    "from langchain_core.runnables import RunnablePassthrough\n",
    "from langchain_ai21 import AI21LLM\n",
    "from langchain_core.prompts import PromptTemplate\n",
    "from langchain_ai21 import AI21ContextualAnswers\n",
    "from langchain import hub\n",
    "import os\n",
    "\n",
    "llm = ChatOpenAI(model=\"gpt-3.5-turbo-0125\")\n",
    "OPENAI_API_KEY = 'sk-proj-gnB8KP0GbrXROIZmAYRKT3BlbkFJveplnj1LUDtIpQcpH1ya'\n",
    "AI_TWENTYONE_API_KEY = \"XaZ0TkUk0Z8NiUMZGxcaD1HPmdeV5V1C\""
   ]
  },
  {
   "cell_type": "markdown",
   "metadata": {},
   "source": [
    "## <b>TESTING DIFFERENT DOCUMENT SPLITTERS </b>"
   ]
  },
  {
   "cell_type": "code",
   "execution_count": 88,
   "metadata": {},
   "outputs": [],
   "source": [
    "os.environ['OPENAI_API_KEY'] = OPENAI_API_KEY\n",
    "os.environ[\"AI21_API_KEY\"] = AI_TWENTYONE_API_KEY"
   ]
  },
  {
   "cell_type": "code",
   "execution_count": 89,
   "metadata": {},
   "outputs": [],
   "source": [
    "text = TextLoader(\"./TestFiles/elijahsresume.txt\")"
   ]
  },
  {
   "cell_type": "code",
   "execution_count": 90,
   "metadata": {},
   "outputs": [
    {
     "data": {
      "text/plain": [
       "[Document(page_content='ELIJAH C. DODSON\\n37A Edgewood St, Roxbury, MA, 02119 | 857-205-5833 | dodsone@wit.edu                                                                                         Elijah Dodson - Full Stack Engineer Intern - Fidelity Investments | LinkedIn\\nEducation & Coursework\\nWentworth Institute of Technology, Boston, MA, Graduation: Aug 2024, BA in Computer Science, GPA: 3.58/4.00\\nRelevant Coursework: Computer Science I and II, Data Structures, Algorithms, Data Science Fundamentals, OS \\nMathematics: Calc 1 and 2, Discrete Math, Computer Organizations, Linear Algebra & Matrix Theory \\nProb. & Stats. for Engineers, Engineering Physics I\\nElectives: Global Cities, Microeconomics, Cell and Molecular Biology (Current)\\nCathedral High School, Boston, MA, June 2020, GPA: 4.1/4.33\\nSkills & Interests\\nCoding Languages: Java, Python, JavaScript, HTML, CSS, Vue.js, React.js (Learning), C/C++ (Basics), F# (Learning)\\nSoftware: Eclipse, PyCharm, Node.js, VSCode, Jupyter Notebook, Command Line, IntelliJ\\nAWS: Lambda , S3, CloudWatch (learning)\\nGoogle Drive: Docs, Slides, Forms, Sheets\\nMicrosoft Office: Outlook, Word, PowerPoint, Excel, Power Apps\\nInterests: Front and Back-End development, natural language understanding, AWS, chatbots/AI, stocks/investments\\nJob Experience\\nFidelity Investments: \\nSoftware Developer Co-op (Spring 2023) | Full Stack Engineer Intern (Summer 2022) | Student Fellowship Intern (Summer 2019) \\nBahtabots Team, Boston, MA, January 10 â€“ April 2023\\nImproved an existing user interface by creating a new component with Vue.js and allowed other developers to create chat bots quicker.\\nDebugged in areas where code was unresponsive while practicing clean code strategies to create a more organized space.\\nDesigned diagrams to help with the visualization and development of new projects.\\nCognitive Computing Intern Group, Boston, MA, June 2022- August 2022\\nCollaborated with other Tech Summer Interns in a SCRUM environment to implement a machine learning model that compared chat bot utterances and gives more optimal responses and improve user experience for both customers and Fidelity associates.\\nDeveloped JavaScript code onto Transcript Lambda code for the purpose of adding properties to Elasticsearch lambda through Amazon Web Services\\nEnterprise Technology Risk Analytics, Boston, MA, June 2019- August 2019\\nAnalyzed data on various business units through Excel while presenting weekly recaps of the work Iâ€™ve accomplished.\\nBridges Program at Wentworth Institute of Technology, Mentor/Coordinator, Boston, MA, May 2023 â€“ June 2023\\nLead a group of upcoming freshmen students as a mentor over the course of a week-long program to help them gain valuable experience of what the school has to offer: community, resources, identity, clubs, environment.\\nManaged logistical tasks as a coordinator by making calls, getting students to apply for the program, creating a safe and comfortable environment for the mentees, and helping prepare for events and the program overall.\\nProjects\\nCreated a website with HTML, CSS, JavaScript, and various APIs integrated within to present the archaeological background of the country, Jordan.\\nDeveloped a working Connect-4 and Checkers game using Java, GUI, and Object-Oriented Programming to create a functional two-player game with other features included.\\nCommunity Service\\nVolunteer, SAINT FRANCIS HOUSE (December 2017 - January 2018) | THE WOMENâ€™S LUNCH PLACE (March 2019)\\nAssisted with meal preparation, service, and clean-up in the kitchen and dining room to decrease food insecurity for underserved populations.\\n', metadata={'source': './TestFiles/elijahsresume.txt'})]"
      ]
     },
     "execution_count": 90,
     "metadata": {},
     "output_type": "execute_result"
    }
   ],
   "source": [
    "loaded_text = text.load()\n",
    "loaded_text"
   ]
  },
  {
   "cell_type": "code",
   "execution_count": 91,
   "metadata": {},
   "outputs": [
    {
     "name": "stdout",
     "output_type": "stream",
     "text": [
      "Split Length of Each Load  \n",
      "Recursive Split Load: 33\n",
      "Character Split Load: 1\n",
      "Semantic Split Load: 10\n"
     ]
    }
   ],
   "source": [
    "# Initializing Splitters\n",
    "\n",
    "recursive_split = RecursiveCharacterTextSplitter(\n",
    "    chunk_size=150, chunk_overlap=20, add_start_index=True\n",
    ")\n",
    "\n",
    "character_split = CharacterTextSplitter(separator=\"\\n\\n\",\n",
    "    chunk_size=50, chunk_overlap=20\n",
    ")\n",
    "\n",
    "semantic_split = AI21SemanticTextSplitter(\n",
    "    chunk_size=150\n",
    ")\n",
    "\n",
    "# Splitting text with different splitters\n",
    "rsLoad = recursive_split.split_documents(loaded_text)\n",
    "csLoad = character_split.split_documents(loaded_text)\n",
    "ssLoad = semantic_split.split_documents(loaded_text)\n",
    "\n",
    "print(\"Split Length of Each Load  \")\n",
    "print(f\"Recursive Split Load: {len(rsLoad)}\")\n",
    "print(f\"Character Split Load: {len(csLoad)}\")\n",
    "print(f\"Semantic Split Load: {len(ssLoad)}\")"
   ]
  },
  {
   "cell_type": "code",
   "execution_count": null,
   "metadata": {},
   "outputs": [],
   "source": [
    "rsLoad"
   ]
  },
  {
   "cell_type": "code",
   "execution_count": null,
   "metadata": {},
   "outputs": [],
   "source": [
    "csLoad[0]"
   ]
  },
  {
   "cell_type": "code",
   "execution_count": 66,
   "metadata": {},
   "outputs": [
    {
     "data": {
      "text/plain": [
       "[Document(page_content='ELIJAH C. DODSON\\n37A Edgewood St, Roxbury, MA, 02119 | 857-205-5833 | dodsone@wit.edu                                                                                         Elijah Dodson - Full Stack Engineer Intern - Fidelity Investments | LinkedIn\\nEducation & Coursework\\nWentworth Institute of Technology, Boston, MA, Graduation: Aug 2024, BA in Computer Science, GPA: 3.58/4.00\\nRelevant Coursework: Computer Science I and II, Data Structures, Algorithms, Data Science Fundamentals, OS \\nMathematics: Calc 1 and 2, Discrete Math, Computer Organizations, Linear Algebra & Matrix Theory \\nProb. & Stats.\\n\\nfor Engineers, Engineering Physics I\\nElectives: Global Cities, Microeconomics, Cell and Molecular Biology (Current)', metadata={'source': './TestFiles/elijahsresume.txt', 'source_type': 'normal_text'}),\n",
       " Document(page_content='Cathedral High School, Boston, MA, June 2020, GPA: 4.1/4.33\\nSkills & Interests\\nCoding Languages: Java, Python, JavaScript, HTML, CSS, Vue.js, React.js (Learning), C/C++ (Basics), F# (Learning)\\nSoftware: Eclipse, PyCharm, Node.js, VSCode, Jupyter Notebook, Command Line, IntelliJ\\nAWS: Lambda , S3, CloudWatch (learning)\\nGoogle Drive: Docs, Slides, Forms, Sheets\\nMicrosoft Office: Outlook, Word, PowerPoint, Excel, Power Apps\\nInterests: Front and Back-End development, natural language understanding, AWS, chatbots/AI, stocks/investments\\nJob Experience\\nFidelity Investments: \\nSoftware Developer Co-op (Spring 2023) | Full Stack Engineer Intern (Summer 2022) | Student Fellowship Intern (Summer 2019)', metadata={'source': './TestFiles/elijahsresume.txt', 'source_type': 'normal_text'}),\n",
       " Document(page_content='Bahtabots Team, Boston, MA, January 10 â€“ April 2023\\nImproved an existing user interface by creating a new component with Vue.js and allowed other developers to create chat bots quicker.\\n\\nDebugged in areas where code was unresponsive while practicing clean code strategies to create a more organized space.\\n\\nDesigned diagrams to help with the visualization and development of new projects.', metadata={'source': './TestFiles/elijahsresume.txt', 'source_type': 'normal_text'}),\n",
       " Document(page_content='Cognitive Computing Intern Group, Boston, MA, June 2022- August 2022', metadata={'source': './TestFiles/elijahsresume.txt', 'source_type': 'normal_text_short'}),\n",
       " Document(page_content='Collaborated with other Tech Summer Interns in a SCRUM environment to implement a machine learning model that compared chat bot utterances and gives more optimal responses and improve user experience for both customers and Fidelity associates.', metadata={'source': './TestFiles/elijahsresume.txt', 'source_type': 'normal_text_short'}),\n",
       " Document(page_content='Developed JavaScript code onto Transcript Lambda code for the purpose of adding properties to Elasticsearch lambda through Amazon Web Services\\nEnterprise Technology Risk Analytics, Boston, MA, June 2019- August 2019\\nAnalyzed data on various business units through Excel while presenting weekly recaps of the work Iâ€™ve accomplished.', metadata={'source': './TestFiles/elijahsresume.txt', 'source_type': 'normal_text'}),\n",
       " Document(page_content='Bridges Program at Wentworth Institute of Technology, Mentor/Coordinator, Boston, MA, May 2023 â€“ June 2023\\nLead a group of upcoming freshmen students as a mentor over the course of a week-long program to help them gain valuable experience of what the school has to offer: community, resources, identity, clubs, environment.\\n\\nManaged logistical tasks as a coordinator by making calls, getting students to apply for the program, creating a safe and comfortable environment for the mentees, and helping prepare for events and the program overall.', metadata={'source': './TestFiles/elijahsresume.txt', 'source_type': 'normal_text'}),\n",
       " Document(page_content='Projects\\nCreated a website with HTML, CSS, JavaScript, and various APIs integrated within to present the archaeological background of the country, Jordan.', metadata={'source': './TestFiles/elijahsresume.txt', 'source_type': 'normal_text_short'}),\n",
       " Document(page_content='Developed a working Connect-4 and Checkers game using Java, GUI, and Object-Oriented Programming to create a functional two-player game with other features included.', metadata={'source': './TestFiles/elijahsresume.txt', 'source_type': 'normal_text_short'}),\n",
       " Document(page_content='Community Service\\nVolunteer, SAINT FRANCIS HOUSE (December 2017 - January 2018) | THE WOMENâ€™S LUNCH PLACE (March 2019) Assisted with meal preparation, service, and clean-up in the kitchen and dining room to decrease food insecurity for underserved populations.', metadata={'source': './TestFiles/elijahsresume.txt', 'source_type': 'normal_text_short'})]"
      ]
     },
     "execution_count": 66,
     "metadata": {},
     "output_type": "execute_result"
    }
   ],
   "source": [
    "ssLoad"
   ]
  },
  {
   "cell_type": "code",
   "execution_count": 92,
   "metadata": {},
   "outputs": [],
   "source": [
    "rs_vectorstore = Chroma.from_documents(documents=rsLoad, embedding=OpenAIEmbeddings())\n",
    "cs_vectorstore = Chroma.from_documents(documents=csLoad, embedding=OpenAIEmbeddings())\n",
    "ss_vectorstore = Chroma.from_documents(documents=ssLoad, embedding=OpenAIEmbeddings())"
   ]
  },
  {
   "cell_type": "code",
   "execution_count": 93,
   "metadata": {},
   "outputs": [],
   "source": [
    "rs_retriever = rs_vectorstore.as_retriever(search_type=\"similarity\", search_kwargs={\"k\": 6})\n",
    "cs_retriever = cs_vectorstore.as_retriever(search_type=\"similarity\", search_kwargs={\"k\": 6})\n",
    "ss_retriever = ss_vectorstore.as_retriever(search_type=\"similarity\", search_kwargs={\"k\": 6})"
   ]
  },
  {
   "cell_type": "code",
   "execution_count": 96,
   "metadata": {},
   "outputs": [],
   "source": [
    "tsm = AI21ContextualAnswers()\n",
    "chain = tsm | StrOutputParser()\n",
    "\n",
    "response = chain.invoke(\n",
    "    {\"context\": loaded_text[0].page_content, \"question\": \"What internships did Elijah complete?\"},\n",
    ")"
   ]
  },
  {
   "cell_type": "code",
   "execution_count": 97,
   "metadata": {},
   "outputs": [
    {
     "data": {
      "text/plain": [
       "'Elijah completed three internships:\\n1. Fidelity Investments: Software Developer Co-op (Spring 2023) | Full Stack Engineer Intern (Summer 2022) | Student Fellowship Intern (Summer 2019)\\n2. Bahtabots Team: Improved an existing user interface by creating a new component with Vue.js and allowed other developers to create chat bots quicker. Debugged in areas where code was unresponsive while practicing clean code strategies to create a more organized space. Designed diagrams to help with the visualization and development of new projects.\\n3. Cognitive Computing Intern Group: Collaborated with other Tech Summer Interns in a SCRUM environment to implement a machine learning model that compared chat bot utterances and gives more optimal responses and improve user experience for both customers and Fidelity associates. Developed JavaScript code onto Transcript Lambda code for the purpose of adding properties to Elasticsearch lambda through Amazon Web Services'"
      ]
     },
     "execution_count": 97,
     "metadata": {},
     "output_type": "execute_result"
    }
   ],
   "source": [
    "response"
   ]
  },
  {
   "cell_type": "code",
   "execution_count": null,
   "metadata": {},
   "outputs": [],
   "source": [
    "print(\"--Enter a question to prompt the assistant--\")\n",
    "while(True):\n",
    "    question = input(\"-> \")\n",
    "    response = chain.invoke(\n",
    "        {\"context\": loaded_text[0].page_content, \"question\": question.split('->')[0]},\n",
    "    )\n",
    "    print(response)"
   ]
  },
  {
   "cell_type": "code",
   "execution_count": 94,
   "metadata": {},
   "outputs": [],
   "source": [
    "#prompt = hub.pull(\"rlm/rag-prompt\")\n",
    "\n",
    "#def format_docs(docs):\n",
    "#    return \"\\n\\n\".join(doc.page_content for doc in docs)"
   ]
  },
  {
   "cell_type": "code",
   "execution_count": 70,
   "metadata": {},
   "outputs": [],
   "source": [
    "# rs_rag_chain = (\n",
    "#     {\"context\": rs_retriever | format_docs, \"question\": RunnablePassthrough()}\n",
    "#     | prompt\n",
    "#     | llm\n",
    "#     | StrOutputParser()\n",
    "# )\n",
    "\n",
    "# cs_rag_chain = (\n",
    "#     {\"context\": cs_retriever | format_docs, \"question\": RunnablePassthrough()}\n",
    "#     | prompt\n",
    "#     | llm\n",
    "#     | StrOutputParser()\n",
    "# )\n",
    "\n",
    "# ss_rag_chain = (\n",
    "#     {\"context\": ss_retriever | format_docs, \"question\": RunnablePassthrough()}\n",
    "#     | prompt\n",
    "#     | llm\n",
    "#     | StrOutputParser()\n",
    "# )\n"
   ]
  },
  {
   "cell_type": "code",
   "execution_count": 84,
   "metadata": {},
   "outputs": [
    {
     "name": "stdout",
     "output_type": "stream",
     "text": [
      "Elijah completed internships as a Full Stack Engineer at Fidelity Investments during the summer of 2022. He also worked as a Student Fellowship Intern at Fidelity Investments during the summer of 2019."
     ]
    }
   ],
   "source": [
    "# for chunk in rs_rag_chain.stream(\"What internships did Elijah complete?\"):\n",
    "#     print(chunk, end=\"\", flush=True)"
   ]
  },
  {
   "cell_type": "code",
   "execution_count": 85,
   "metadata": {},
   "outputs": [
    {
     "name": "stdout",
     "output_type": "stream",
     "text": [
      "Elijah completed internships as a Full Stack Engineer Intern at Fidelity Investments in the summers of 2022 and 2019."
     ]
    }
   ],
   "source": [
    "# for chunk in cs_rag_chain.stream(\"What internships did Elijah complete??\"):\n",
    "#     print(chunk, end=\"\", flush=True)"
   ]
  },
  {
   "cell_type": "code",
   "execution_count": 86,
   "metadata": {},
   "outputs": [
    {
     "name": "stdout",
     "output_type": "stream",
     "text": [
      "Elijah completed a Full Stack Engineer Internship at Fidelity Investments during the summer of 2022."
     ]
    }
   ],
   "source": [
    "# for chunk in ss_rag_chain.stream(\"What internships did Elijah complete??\"):\n",
    "#     print(chunk, end=\"\", flush=True)"
   ]
  }
 ],
 "metadata": {
  "kernelspec": {
   "display_name": "Python 3",
   "language": "python",
   "name": "python3"
  },
  "language_info": {
   "codemirror_mode": {
    "name": "ipython",
    "version": 3
   },
   "file_extension": ".py",
   "mimetype": "text/x-python",
   "name": "python",
   "nbconvert_exporter": "python",
   "pygments_lexer": "ipython3",
   "version": "3.10.11"
  }
 },
 "nbformat": 4,
 "nbformat_minor": 2
}
