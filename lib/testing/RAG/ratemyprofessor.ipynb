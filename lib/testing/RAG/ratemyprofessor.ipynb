{
 "cells": [
  {
   "cell_type": "code",
   "execution_count": 5,
   "metadata": {},
   "outputs": [],
   "source": [
    "import ratemyprofessor"
   ]
  },
  {
   "cell_type": "code",
   "execution_count": 6,
   "metadata": {},
   "outputs": [],
   "source": [
    "# install: python -m pip install RateMyProfessorAPI\n",
    "# website: https://pypi.org/project/RateMyProfessorAPI/"
   ]
  },
  {
   "cell_type": "markdown",
   "metadata": {},
   "source": [
    "## Data Collection with Rate My Professor API"
   ]
  },
  {
   "cell_type": "code",
   "execution_count": 7,
   "metadata": {},
   "outputs": [],
   "source": [
    "school_name = \"Wentworth Institute of Technology\""
   ]
  },
  {
   "cell_type": "code",
   "execution_count": 8,
   "metadata": {},
   "outputs": [],
   "source": [
    "my_picked_school = ratemyprofessor.get_school_by_name(school_name)"
   ]
  },
  {
   "cell_type": "code",
   "execution_count": 27,
   "metadata": {},
   "outputs": [],
   "source": [
    "professor = ratemyprofessor.get_professor_by_school_and_name(my_picked_school, \"Jody Gordon\") "
   ]
  },
  {
   "cell_type": "code",
   "execution_count": 28,
   "metadata": {},
   "outputs": [
    {
     "data": {
      "text/plain": [
       "Bertrand Gordon"
      ]
     },
     "execution_count": 28,
     "metadata": {},
     "output_type": "execute_result"
    }
   ],
   "source": [
    "professor"
   ]
  },
  {
   "cell_type": "code",
   "execution_count": 11,
   "metadata": {},
   "outputs": [],
   "source": [
    "def professor_details(professor):\n",
    "    if professor is not None:\n",
    "        print(\"%sworks in the %s Department of %s.\" % (professor.name, professor.department, professor.school.name))\n",
    "        print(\"Rating: %s / 5.0\" % professor.rating)\n",
    "        print(\"Difficulty: %s / 5.0\" % professor.difficulty)\n",
    "        print(\"Total Ratings: %s\" % professor.num_ratings)\n",
    "    if professor.would_take_again is not None:\n",
    "        print((\"Would Take Again: %s\" % round(professor.would_take_again, 1)) + '%')\n",
    "    else:\n",
    "        print(\"Would Take Again: N/A\")"
   ]
  },
  {
   "cell_type": "code",
   "execution_count": null,
   "metadata": {},
   "outputs": [],
   "source": [
    "professor_details(professor)"
   ]
  }
 ],
 "metadata": {
  "kernelspec": {
   "display_name": "Python 3",
   "language": "python",
   "name": "python3"
  },
  "language_info": {
   "codemirror_mode": {
    "name": "ipython",
    "version": 3
   },
   "file_extension": ".py",
   "mimetype": "text/x-python",
   "name": "python",
   "nbconvert_exporter": "python",
   "pygments_lexer": "ipython3",
   "version": "3.10.11"
  }
 },
 "nbformat": 4,
 "nbformat_minor": 2
}
