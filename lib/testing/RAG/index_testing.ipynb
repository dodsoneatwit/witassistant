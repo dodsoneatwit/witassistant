{
 "cells": [
  {
   "cell_type": "code",
   "execution_count": 1,
   "metadata": {},
   "outputs": [
    {
     "name": "stderr",
     "output_type": "stream",
     "text": [
      "C:\\Users\\dodsone\\AppData\\Local\\Packages\\PythonSoftwareFoundation.Python.3.10_qbz5n2kfra8p0\\LocalCache\\local-packages\\Python310\\site-packages\\pinecone\\data\\index.py:1: TqdmWarning: IProgress not found. Please update jupyter and ipywidgets. See https://ipywidgets.readthedocs.io/en/stable/user_install.html\n",
      "  from tqdm.autonotebook import tqdm\n"
     ]
    }
   ],
   "source": [
    "import os\n",
    "from dotenv import load_dotenv\n",
    "from langchain_pinecone import Pinecone\n",
    "from langchain_ai21 import AI21ContextualAnswers\n",
    "from langchain_core.output_parsers import StrOutputParser\n",
    "from langchain_openai import ChatOpenAI, OpenAIEmbeddings\n",
    "\n"
   ]
  },
  {
   "cell_type": "code",
   "execution_count": 2,
   "metadata": {},
   "outputs": [
    {
     "data": {
      "text/plain": [
       "True"
      ]
     },
     "execution_count": 2,
     "metadata": {},
     "output_type": "execute_result"
    }
   ],
   "source": [
    "load_dotenv()"
   ]
  },
  {
   "cell_type": "code",
   "execution_count": 3,
   "metadata": {},
   "outputs": [],
   "source": [
    "# Access the environment variables\n",
    "openai_api_key = os.getenv('OPENAI_API_KEY')\n",
    "ai_twentyone_api_key = os.getenv('AI_TWENTYONE_API_KEY')\n",
    "pinecone_api_key = os.getenv('PINECONE_API_KEY')\n",
    "pc_index_wit = os.getenv('PINECONE_WIT_SEMANTIC')"
   ]
  },
  {
   "cell_type": "code",
   "execution_count": 4,
   "metadata": {},
   "outputs": [],
   "source": [
    "os.environ[\"AI21_API_KEY\"] = ai_twentyone_api_key\n",
    "os.environ['OPENAI_API_KEY'] = openai_api_key\n",
    "os.environ['PINECONE_API_KEY'] = pinecone_api_key"
   ]
  },
  {
   "cell_type": "code",
   "execution_count": 5,
   "metadata": {},
   "outputs": [
    {
     "name": "stderr",
     "output_type": "stream",
     "text": [
      "C:\\Users\\dodsone\\AppData\\Local\\Packages\\PythonSoftwareFoundation.Python.3.10_qbz5n2kfra8p0\\LocalCache\\local-packages\\Python310\\site-packages\\langchain_core\\_api\\deprecation.py:119: LangChainDeprecationWarning: The class `Pinecone` was deprecated in LangChain 0.0.3 and will be removed in 0.2.0. Use PineconeVectorStore instead.\n",
      "  warn_deprecated(\n"
     ]
    }
   ],
   "source": [
    "\n",
    "generalWit = Pinecone(\n",
    "    index_name=pc_index_wit,\n",
    "    embedding=OpenAIEmbeddings()\n",
    ")"
   ]
  },
  {
   "cell_type": "code",
   "execution_count": 11,
   "metadata": {},
   "outputs": [],
   "source": [
    "tsm = AI21ContextualAnswers()\n",
    "chain = tsm | StrOutputParser()\n",
    "\n",
    "\n",
    "question = \"What are some things to do in Boston?\"\n",
    "query_result = generalWit.max_marginal_relevance_search(question, k=5, fetch_k=10)\n",
    "found_docs = \"\""
   ]
  },
  {
   "cell_type": "code",
   "execution_count": 12,
   "metadata": {},
   "outputs": [
    {
     "data": {
      "text/plain": [
       "'Who is the Associate Dean for the Center for Wellness?'"
      ]
     },
     "execution_count": 12,
     "metadata": {},
     "output_type": "execute_result"
    }
   ],
   "source": [
    "# --Questions To Test Bot--\n",
    "\"Top earnings for students who graduate from Wentworth?\"\n",
    "\"What are the percentage of hispanics at Wentworth?\"\n",
    "\"Salem Othoman's email address and phone number?\"\n",
    "\"Credits needed for the three year computer science bachelors program?\"\n",
    "\"Programs within the school of computing and data science?\"\n",
    "\"What are some Student Services & Facilities?\"\n",
    "\"What is the Center for Wellness?\"\n",
    "\"Who is the Associate Dean for the Center for Wellness?\"\n",
    "\"What are some things to do in Boston?\"\n",
    "\"Weather conditions in Boston?\""
   ]
  },
  {
   "cell_type": "code",
   "execution_count": 13,
   "metadata": {},
   "outputs": [],
   "source": [
    "# query_result"
   ]
  },
  {
   "cell_type": "code",
   "execution_count": 14,
   "metadata": {},
   "outputs": [],
   "source": [
    "for i, doc in enumerate(query_result):\n",
    "    found_docs = found_docs + doc.page_content + \" \"\n",
    "response = chain.invoke(\n",
    "    {\"context\": found_docs, \"question\": question},\n",
    ")"
   ]
  },
  {
   "cell_type": "code",
   "execution_count": 15,
   "metadata": {},
   "outputs": [
    {
     "name": "stdout",
     "output_type": "stream",
     "text": [
      "While in Boston, you can:\n",
      "- Visit the Boston Public Garden\n",
      "- Take a Duck Tour\n",
      "- Visit the Museum Of Science\n",
      "- Visit Newbury Street\n",
      "- Visit Quincy Market\n",
      "- Walk The Freedom Trail\n",
      "- Visit Bunker Hill\n",
      "- Experience America's pastime at historic Fenway Park \n",
      "\n",
      " --Related Links-- \n",
      "\n",
      "https://wit.edu/admissions/pre-college/impact-lab/student-life\n",
      "https://wit.edu/about\n",
      "https://wit.edu/admissions/pre-college/impact-lab/student-life\n",
      "https://www.city-data.com/us-cities/The-Northeast/Boston-Recreation.html\n",
      "https://wit.edu/about/diversity/international/life-at-wentworth\n"
     ]
    }
   ],
   "source": [
    "print(f'{response} \\n\\n --Related Links-- \\n')\n",
    "for i in query_result:\n",
    "    if i.metadata != {}:\n",
    "        print(i.metadata['source'])"
   ]
  }
 ],
 "metadata": {
  "kernelspec": {
   "display_name": "Python 3",
   "language": "python",
   "name": "python3"
  },
  "language_info": {
   "codemirror_mode": {
    "name": "ipython",
    "version": 3
   },
   "file_extension": ".py",
   "mimetype": "text/x-python",
   "name": "python",
   "nbconvert_exporter": "python",
   "pygments_lexer": "ipython3",
   "version": "3.10.11"
  }
 },
 "nbformat": 4,
 "nbformat_minor": 2
}
