{
 "cells": [
  {
   "cell_type": "code",
   "execution_count": 1,
   "metadata": {},
   "outputs": [
    {
     "name": "stderr",
     "output_type": "stream",
     "text": [
      "C:\\Users\\elija\\AppData\\Local\\Packages\\PythonSoftwareFoundation.Python.3.10_qbz5n2kfra8p0\\LocalCache\\local-packages\\Python310\\site-packages\\pinecone\\data\\index.py:1: TqdmWarning: IProgress not found. Please update jupyter and ipywidgets. See https://ipywidgets.readthedocs.io/en/stable/user_install.html\n",
      "  from tqdm.autonotebook import tqdm\n"
     ]
    }
   ],
   "source": [
    "import os\n",
    "from dotenv import load_dotenv\n",
    "from langchain_pinecone import Pinecone\n",
    "from langchain_ai21 import AI21ContextualAnswers\n",
    "from langchain_core.output_parsers import StrOutputParser\n",
    "from langchain_openai import ChatOpenAI, OpenAIEmbeddings\n",
    "\n"
   ]
  },
  {
   "cell_type": "code",
   "execution_count": 2,
   "metadata": {},
   "outputs": [
    {
     "data": {
      "text/plain": [
       "True"
      ]
     },
     "execution_count": 2,
     "metadata": {},
     "output_type": "execute_result"
    }
   ],
   "source": [
    "load_dotenv()"
   ]
  },
  {
   "cell_type": "code",
   "execution_count": 3,
   "metadata": {},
   "outputs": [],
   "source": [
    "# Access the environment variables\n",
    "openai_api_key = os.getenv('OPENAI_API_KEY')\n",
    "ai_twentyone_api_key = os.getenv('AI_TWENTYONE_API_KEY')\n",
    "pinecone_api_key = os.getenv('PINECONE_API_KEY')\n",
    "pc_index_wit = os.getenv('PINECONE_WIT_SEMANTIC')"
   ]
  },
  {
   "cell_type": "code",
   "execution_count": 4,
   "metadata": {},
   "outputs": [],
   "source": [
    "os.environ[\"AI21_API_KEY\"] = ai_twentyone_api_key\n",
    "os.environ['OPENAI_API_KEY'] = openai_api_key\n",
    "os.environ['PINECONE_API_KEY'] = pinecone_api_key"
   ]
  },
  {
   "cell_type": "code",
   "execution_count": 5,
   "metadata": {},
   "outputs": [
    {
     "name": "stderr",
     "output_type": "stream",
     "text": [
      "C:\\Users\\elija\\AppData\\Local\\Packages\\PythonSoftwareFoundation.Python.3.10_qbz5n2kfra8p0\\LocalCache\\local-packages\\Python310\\site-packages\\langchain_core\\_api\\deprecation.py:119: LangChainDeprecationWarning: The class `Pinecone` was deprecated in LangChain 0.0.3 and will be removed in 0.2.0. Use PineconeVectorStore instead.\n",
      "  warn_deprecated(\n"
     ]
    }
   ],
   "source": [
    "\n",
    "generalWit = Pinecone(\n",
    "    index_name=pc_index_wit,\n",
    "    embedding=OpenAIEmbeddings()\n",
    ")"
   ]
  },
  {
   "cell_type": "code",
   "execution_count": 42,
   "metadata": {},
   "outputs": [],
   "source": [
    "tsm = AI21ContextualAnswers()\n",
    "chain = tsm | StrOutputParser()\n",
    "\n",
    "\n",
    "question = \"Top employers at Wentworth?\"\n",
    "query_result = generalWit.max_marginal_relevance_search(question, k=5, fetch_k=10)\n",
    "found_docs = \"\""
   ]
  },
  {
   "cell_type": "code",
   "execution_count": 43,
   "metadata": {},
   "outputs": [
    {
     "data": {
      "text/plain": [
       "[Document(page_content='In my experience, Wentworth students are perceived really well from many employers around New England.', metadata={'description': \"Learn about the Business Analytics Master's Degree at Wentworth Institute of Technology, located right in the heart of downtown Boston, MA.\", 'language': 'en', 'source': 'https://wit.edu/academics/management/degrees/masters/business-analytics', 'source_type': 'normal_text_short', 'title': \"Business Analytics Master's Degree in Boston | Wentworth\"}),\n",
       " Document(page_content='Why Wentworth?\\n\\n|', metadata={'description': 'Universities make a lot of promises but at the end of four\\xa0years what do they really deliver? At Wentworth, we offer the educational programs for which there is a strong labor market demand\\xa0that enables us to produce graduates who consistently bring extraordinary value to their organizations and to the world. We walk the talk with hands-on learning, required cooperative education\\xa0experiences and caring faculty. Read on to discover our\\xa0promise to you and our strategy to make these promises a reality.\\xa0\\xa0 \\xa0', 'language': 'en', 'source': 'https://wit.edu/about', 'source_type': 'non_english', 'title': 'Why Wentworth? | Wentworth'}),\n",
       " Document(page_content='Search for Open Positions\\n      \\n\\n\\n\\n\\n\\n \\n\\n\\n\\n\\n\\n\\n\\n\\n\\nBenefits of Working at Wentworth\\n\\n\\nThere are a number of advantages to working at Wentworth.', metadata={'description': 'Wentworth Institute of Technology is a collaborative, mission-driven community of educators and professionals committed to excellence in ourselves and in the students we teach and support. As an equal opportunity employer, we are committed to continuing to develop a richly diverse faculty, staff, and student body.', 'language': 'en', 'source': 'https://wit.edu/careers/work-wentworth', 'source_type': 'non_english', 'title': 'Work at Wentworth | Wentworth'}),\n",
       " Document(page_content=\"Co-ops & Careers\\n\\n\\nWhat is your return on investment?A key factor contributing to Wentworth's success is the university’s focus on providing hands-on learning opportunities.\\n\\nStudents develop practical skills that are in high demand by employers, making them more competitive in the job market after graduation.\\n\\nRecently Wentworth ranked #1 in a New York Times Ranking Poll when prioritizing earnings, economic mobility, and economic diversity among colleges in Massachusetts.\\n\\nWentworth ranks #25 nationally out of over 700 schools that have fewer than 10,000 undergraduate students, when prioritizing economic mobility and high earnings.\\n\\nThe strong showing highlights the school's commitment to being a university of opportunity as it prepares its students for the workforce.\", metadata={'description': 'Choosing a college is one of the biggest decisions you will help your child make. The Wentworth admissions team is here for you as you navigate the college search process. We are thrilled that you are joining us in exploring the exciting opportunities that await your child here.', 'language': 'en', 'source': 'https://wit.edu/admissions/undergraduate/parents-families', 'source_type': 'normal_text', 'title': 'Parents & Families | Wentworth'}),\n",
       " Document(page_content='Wentworth sits in the heart of Boston, the innovation hub for the East Coast and home to some of\\xa0the\\xa0fastest\\xa0growing companies and non-profits in\\xa0research and development, high-technology,\\xa0medicine,\\xa0education,\\xa0finance,\\xa0and start-ups across all industries.\\n\\nWentworth’s 37,000-alumni network includes many active leaders in\\xa0industry in Boston and across the world who are eager to hire other Wentworth graduates because they know they are hiring talented, knowledgeable,\\xa0and hardworking employees.', metadata={'description': \"Return on Investment or ROI. It's a phrase you hear a lot these days but what does that mean when it comes to choosing your education?\\xa0 The powerful combination of Wentworth's\\xa0hands-on learning model, required cooperative education\\xa0experiences and caring faculty are transformative for our graduates and employers know it.\\xa0As you’re evaluating the costs of college, think about it like any other investment. What can you expect to gain from your degree?\", 'language': 'en', 'source': 'https://wit.edu/about/roi', 'source_type': 'normal_text', 'title': 'Return On Investment | Wentworth'})]"
      ]
     },
     "execution_count": 43,
     "metadata": {},
     "output_type": "execute_result"
    }
   ],
   "source": [
    "# --Questions To Test Bot--\n",
    "\"Top earnings for students who graduate from Wentworth?\"\n",
    "\"What are the percentage of hispanics at Wentworth?\"\n",
    "\"Salem Othoman's email address and phone number?\"\n",
    "\"Credits needed for the three year computer science bachelors program?\"\n",
    "\"Programs within the school of computing and data science?\"\n",
    "\"What are some Student Services & Facilities?\"\n",
    "\"What is the Center for Wellness?\"\n",
    "\"Who is the Associate Dean for the Center for Wellness?\""
   ]
  },
  {
   "cell_type": "code",
   "execution_count": 44,
   "metadata": {},
   "outputs": [
    {
     "data": {
      "text/plain": [
       "[Document(page_content='In my experience, Wentworth students are perceived really well from many employers around New England.', metadata={'description': \"Learn about the Business Analytics Master's Degree at Wentworth Institute of Technology, located right in the heart of downtown Boston, MA.\", 'language': 'en', 'source': 'https://wit.edu/academics/management/degrees/masters/business-analytics', 'source_type': 'normal_text_short', 'title': \"Business Analytics Master's Degree in Boston | Wentworth\"}),\n",
       " Document(page_content='Why Wentworth?\\n\\n|', metadata={'description': 'Universities make a lot of promises but at the end of four\\xa0years what do they really deliver? At Wentworth, we offer the educational programs for which there is a strong labor market demand\\xa0that enables us to produce graduates who consistently bring extraordinary value to their organizations and to the world. We walk the talk with hands-on learning, required cooperative education\\xa0experiences and caring faculty. Read on to discover our\\xa0promise to you and our strategy to make these promises a reality.\\xa0\\xa0 \\xa0', 'language': 'en', 'source': 'https://wit.edu/about', 'source_type': 'non_english', 'title': 'Why Wentworth? | Wentworth'}),\n",
       " Document(page_content='Search for Open Positions\\n      \\n\\n\\n\\n\\n\\n \\n\\n\\n\\n\\n\\n\\n\\n\\n\\nBenefits of Working at Wentworth\\n\\n\\nThere are a number of advantages to working at Wentworth.', metadata={'description': 'Wentworth Institute of Technology is a collaborative, mission-driven community of educators and professionals committed to excellence in ourselves and in the students we teach and support. As an equal opportunity employer, we are committed to continuing to develop a richly diverse faculty, staff, and student body.', 'language': 'en', 'source': 'https://wit.edu/careers/work-wentworth', 'source_type': 'non_english', 'title': 'Work at Wentworth | Wentworth'}),\n",
       " Document(page_content=\"Co-ops & Careers\\n\\n\\nWhat is your return on investment?A key factor contributing to Wentworth's success is the university’s focus on providing hands-on learning opportunities.\\n\\nStudents develop practical skills that are in high demand by employers, making them more competitive in the job market after graduation.\\n\\nRecently Wentworth ranked #1 in a New York Times Ranking Poll when prioritizing earnings, economic mobility, and economic diversity among colleges in Massachusetts.\\n\\nWentworth ranks #25 nationally out of over 700 schools that have fewer than 10,000 undergraduate students, when prioritizing economic mobility and high earnings.\\n\\nThe strong showing highlights the school's commitment to being a university of opportunity as it prepares its students for the workforce.\", metadata={'description': 'Choosing a college is one of the biggest decisions you will help your child make. The Wentworth admissions team is here for you as you navigate the college search process. We are thrilled that you are joining us in exploring the exciting opportunities that await your child here.', 'language': 'en', 'source': 'https://wit.edu/admissions/undergraduate/parents-families', 'source_type': 'normal_text', 'title': 'Parents & Families | Wentworth'}),\n",
       " Document(page_content='Wentworth sits in the heart of Boston, the innovation hub for the East Coast and home to some of\\xa0the\\xa0fastest\\xa0growing companies and non-profits in\\xa0research and development, high-technology,\\xa0medicine,\\xa0education,\\xa0finance,\\xa0and start-ups across all industries.\\n\\nWentworth’s 37,000-alumni network includes many active leaders in\\xa0industry in Boston and across the world who are eager to hire other Wentworth graduates because they know they are hiring talented, knowledgeable,\\xa0and hardworking employees.', metadata={'description': \"Return on Investment or ROI. It's a phrase you hear a lot these days but what does that mean when it comes to choosing your education?\\xa0 The powerful combination of Wentworth's\\xa0hands-on learning model, required cooperative education\\xa0experiences and caring faculty are transformative for our graduates and employers know it.\\xa0As you’re evaluating the costs of college, think about it like any other investment. What can you expect to gain from your degree?\", 'language': 'en', 'source': 'https://wit.edu/about/roi', 'source_type': 'normal_text', 'title': 'Return On Investment | Wentworth'})]"
      ]
     },
     "execution_count": 44,
     "metadata": {},
     "output_type": "execute_result"
    }
   ],
   "source": [
    "# query_result"
   ]
  },
  {
   "cell_type": "code",
   "execution_count": 45,
   "metadata": {},
   "outputs": [],
   "source": [
    "for i, doc in enumerate(query_result):\n",
    "    found_docs = found_docs + doc.page_content + \" \"\n",
    "response = chain.invoke(\n",
    "    {\"context\": found_docs, \"question\": question},\n",
    ")"
   ]
  },
  {
   "cell_type": "code",
   "execution_count": 46,
   "metadata": {},
   "outputs": [
    {
     "name": "stdout",
     "output_type": "stream",
     "text": [
      "Answer not in context\n"
     ]
    }
   ],
   "source": [
    "print(response)"
   ]
  }
 ],
 "metadata": {
  "kernelspec": {
   "display_name": "Python 3",
   "language": "python",
   "name": "python3"
  },
  "language_info": {
   "codemirror_mode": {
    "name": "ipython",
    "version": 3
   },
   "file_extension": ".py",
   "mimetype": "text/x-python",
   "name": "python",
   "nbconvert_exporter": "python",
   "pygments_lexer": "ipython3",
   "version": "3.10.11"
  }
 },
 "nbformat": 4,
 "nbformat_minor": 2
}
