{
 "cells": [
  {
   "cell_type": "code",
   "execution_count": 2,
   "metadata": {},
   "outputs": [
    {
     "name": "stderr",
     "output_type": "stream",
     "text": [
      "C:\\Users\\elija\\AppData\\Local\\Packages\\PythonSoftwareFoundation.Python.3.10_qbz5n2kfra8p0\\LocalCache\\local-packages\\Python310\\site-packages\\pinecone\\data\\index.py:1: TqdmWarning: IProgress not found. Please update jupyter and ipywidgets. See https://ipywidgets.readthedocs.io/en/stable/user_install.html\n",
      "  from tqdm.autonotebook import tqdm\n"
     ]
    }
   ],
   "source": [
    "import os\n",
    "from dotenv import load_dotenv\n",
    "from langchain_pinecone import Pinecone\n",
    "from langchain_ai21 import AI21ContextualAnswers\n",
    "from langchain_core.output_parsers import StrOutputParser\n",
    "from langchain_openai import OpenAIEmbeddings\n",
    "\n"
   ]
  },
  {
   "cell_type": "code",
   "execution_count": 3,
   "metadata": {},
   "outputs": [
    {
     "data": {
      "text/plain": [
       "True"
      ]
     },
     "execution_count": 3,
     "metadata": {},
     "output_type": "execute_result"
    }
   ],
   "source": [
    "# process .env file\n",
    "load_dotenv()"
   ]
  },
  {
   "cell_type": "code",
   "execution_count": 4,
   "metadata": {},
   "outputs": [],
   "source": [
    "# Access the environment variables\n",
    "openai_api_key = os.getenv('OPENAI_API_KEY')\n",
    "ai_twentyone_api_key = os.getenv('AI_TWENTYONE_API_KEY')\n",
    "pinecone_api_key = os.getenv('PINECONE_API_KEY')\n",
    "pc_index_wit = os.getenv('PINECONE_WIT_SEMANTIC')"
   ]
  },
  {
   "cell_type": "code",
   "execution_count": 5,
   "metadata": {},
   "outputs": [],
   "source": [
    "# Apply API keys for OpenAI, AI21, and Pinecone\n",
    "os.environ[\"AI21_API_KEY\"] = ai_twentyone_api_key\n",
    "os.environ['OPENAI_API_KEY'] = openai_api_key\n",
    "os.environ['PINECONE_API_KEY'] = pinecone_api_key"
   ]
  },
  {
   "cell_type": "code",
   "execution_count": 6,
   "metadata": {},
   "outputs": [
    {
     "name": "stderr",
     "output_type": "stream",
     "text": [
      "C:\\Users\\elija\\AppData\\Local\\Packages\\PythonSoftwareFoundation.Python.3.10_qbz5n2kfra8p0\\LocalCache\\local-packages\\Python310\\site-packages\\langchain_core\\_api\\deprecation.py:119: LangChainDeprecationWarning: The class `Pinecone` was deprecated in LangChain 0.0.3 and will be removed in 0.2.0. Use PineconeVectorStore instead.\n",
      "  warn_deprecated(\n"
     ]
    }
   ],
   "source": [
    "# initializing Pinecone vector database instance\n",
    "generalWit = Pinecone(\n",
    "    index_name=pc_index_wit,\n",
    "    embedding=OpenAIEmbeddings()\n",
    ")"
   ]
  },
  {
   "cell_type": "code",
   "execution_count": 53,
   "metadata": {},
   "outputs": [],
   "source": [
    "# Initialize AI21 contextual answer model\n",
    "tsm = AI21ContextualAnswers()\n",
    "\n",
    "# Chain the AI21 model with a string output parser\n",
    "chain = tsm | StrOutputParser()\n",
    "\n",
    "\n",
    "question = \"Cars\"\n",
    "\n",
    "# Search for results within the database related to the question\n",
    "query_result = generalWit.max_marginal_relevance_search(question, k=100, fetch_k=350)\n",
    "found_docs = \"\""
   ]
  },
  {
   "cell_type": "code",
   "execution_count": 54,
   "metadata": {},
   "outputs": [
    {
     "data": {
      "text/plain": [
       "'Co-ops at Wentworth?'"
      ]
     },
     "execution_count": 54,
     "metadata": {},
     "output_type": "execute_result"
    }
   ],
   "source": [
    "# --Questions To Test Bot--\n",
    "\"Tell me about Co-ops and Careers at Wentworth\"\n",
    "\"Food place specific info\"\n",
    "\"Food places around Wentworth\"\n",
    "\"Things to do in Boston?\"\n",
    "\"Tell me about Boston\"\n",
    "\"Housing and Dining\"\n",
    "\"Top earnings for students who graduate from Wentworth?\"\n",
    "\"What are the percentage of hispanics at Wentworth?\"\n",
    "\"Salem Othoman's email address and phone number?\"\n",
    "\"Credits needed for the three year computer science bachelors program?\"\n",
    "\"Programs within the school of computing and data science?\"\n",
    "\"What are some Student Services & Facilities?\"\n",
    "\"What is the Center for Wellness?\"\n",
    "\"Who is the Associate Dean for the Center for Wellness?\"\n",
    "\"What are some things to do in Boston?\"\n",
    "\"Weather conditions in Boston?\"\n",
    "\"Tell me about Wentworth Institute of Technology?\",\n",
    "\"Financial Aid?\",\n",
    "\"Co-ops at Wentworth?\""
   ]
  },
  {
   "cell_type": "code",
   "execution_count": 55,
   "metadata": {},
   "outputs": [
    {
     "data": {
      "text/plain": [
       "[Document(page_content='Course', metadata={'description': 'Science and Technology in Society Minor', 'language': 'en', 'source': 'https://catalog.wit.edu/sciences-humanities/humanities-social-sciences/science-and-technology-in-society/', 'source_type': 'normal_text_short', 'title': 'Science and Technology in Society Minor < WIT'}),\n",
       " Document(page_content='Share', metadata={'language': 'en-US', 'source': 'https://coopsandcareers.wit.edu/jobs/category/co-ops/', 'source_type': 'normal_text_short', 'title': 'Co-op – Co-ops + Careers | Wentworth Institute of Technology'}),\n",
       " Document(page_content='Management', metadata={'description': 'Management Department', 'language': 'en', 'source': 'https://catalog.wit.edu/management/management/', 'source_type': 'normal_text_short', 'title': 'Management < WIT'}),\n",
       " Document(page_content='Meet', metadata={'language': 'en', 'source': 'https://wit.edu/academics/resources/math-placement', 'source_type': 'normal_text_short', 'title': 'Math Placement FAQs | Wentworth'}),\n",
       " Document(page_content='Project', metadata={'language': 'en-US', 'source': 'https://coopsandcareers.wit.edu/channels/engineering/', 'source_type': 'normal_text_short', 'title': 'Engineering – Co-ops + Careers | Wentworth Institute of Technology'}),\n",
       " Document(page_content='Courses |', metadata={'description': 'At ImpactLab, students get the opportunity to choose from an exciting menu of academic experiences taught by current Wentworth faculty on campus. Choose one of these two-week-long summer adventures and begin your exploration in science, engineering, technology, or design.\\xa0', 'language': 'en', 'source': 'https://wit.edu/admissions/pre-college/impact-lab/courses', 'source_type': 'normal_text_short', 'title': 'Courses | Wentworth'}),\n",
       " Document(page_content='Course', metadata={'description': 'Science and Technology in Society Minor', 'language': 'en', 'source': 'https://catalog.wit.edu/sciences-humanities/humanities-social-sciences/science-and-technology-in-society/', 'source_type': 'normal_text_short', 'title': 'Science and Technology in Society Minor < WIT'}),\n",
       " Document(page_content='Course', metadata={'description': 'Science and Technology in Society Minor', 'language': 'en', 'source': 'https://catalog.wit.edu/sciences-humanities/humanities-social-sciences/science-and-technology-in-society/#programdetailstext', 'source_type': 'normal_text_short', 'title': 'Science and Technology in Society Minor < WIT'}),\n",
       " Document(page_content='Course', metadata={'description': 'Science and Technology in Society Minor', 'language': 'en', 'source': 'https://catalog.wit.edu/sciences-humanities/humanities-social-sciences/science-and-technology-in-society/#programdetailstext', 'source_type': 'normal_text_short', 'title': 'Science and Technology in Society Minor < WIT'}),\n",
       " Document(page_content='Management', metadata={'description': 'Management Department', 'language': 'en', 'source': 'https://catalog.wit.edu/management/management/#programdetailstext', 'source_type': 'normal_text_short', 'title': 'Management < WIT'}),\n",
       " Document(page_content='Meet', metadata={'language': 'en', 'source': 'https://wit.edu/academics/degree-finder', 'source_type': 'normal_text_short', 'title': 'Find Your Degree | Wentworth'}),\n",
       " Document(page_content='Meet', metadata={'description': \"What you do right now is what defines the future—it's a mantra that's echoed throughout Wentworth Institute of Technology. That means diving in head first. It means breaking things just to fix them, embracing failures because it leads to successes. That unique mindset is what makes Wentworth such a unique place to learn. It's not a university of yesterday or of tomorrow, but of today. It's a University of Now. And when it comes to improving your world, The University of Now is where it all begins.\", 'language': 'en', 'source': 'https://wit.edu/admissions', 'source_type': 'normal_text_short', 'title': 'Admissions & Aid | Wentworth'}),\n",
       " Document(page_content='Meet', metadata={'description': 'At ImpactLab, students get the opportunity to choose from an exciting menu of academic experiences taught by current Wentworth faculty on campus. Choose one of these two-week-long summer adventures and begin your exploration in science, engineering, technology, or design.\\xa0', 'language': 'en', 'source': 'https://wit.edu/admissions/pre-college/impact-lab/courses', 'source_type': 'normal_text_short', 'title': 'Courses | Wentworth'}),\n",
       " Document(page_content='Meet', metadata={'description': 'With over 70 student organizations at Wentworth, you are bound to find something that interests you. Jump on a podcast with Wentworth Internet Radio + Entertainment (WIRE), get into the scrum with our Men’s and Women’s Club Rugby teams, take a hike in the White Mountains with Outing Club, or build and test a concrete canoe with American Society of Civil Engineers. Browse our list of clubs & organizations below or on Leopard Spot. Whatever your interests, you will be able to Find Your FIT at WIT!', 'language': 'en', 'source': 'https://wit.edu/student-life/clubs-organizations', 'source_type': 'normal_text_short', 'title': 'Student Clubs & Organizations | Wentworth'}),\n",
       " Document(page_content='Meet', metadata={'description': \"Wentworth's Pre-college Programs help middle school and high school students explore their passions while indulging their curiosities about Science, Technology, Engineering, Design, and Mathematics. Our programs provide high-quality enrichment opportunities for students and families—with a special emphasis on increasing interest and access for youth interested in STEM.\\xa0 Learn more about our team below.\\xa0For general information, please contact our office at 617-989-4000 or precollege@wit.edu and our staff will be happy to assist you.\", 'language': 'en', 'source': 'https://wit.edu/admissions/pre-college/meet-team', 'source_type': 'normal_text_short', 'title': 'Meet the Team | Wentworth'}),\n",
       " Document(page_content='Meet', metadata={'description': 'Wentworth Institute of Technology is a technology university in Boston with five schools focused on Engineering, Computing, Design and Management. It is ranked as one of the best engineering schools by U.S. News & World Report and Best Values by Payscale.com.', 'language': 'en', 'source': 'https://wit.edu/', 'source_type': 'normal_text_short', 'title': 'Wentworth: Technology-focused University in Boston, MA | Wentworth'}),\n",
       " Document(page_content='Meet', metadata={'description': 'Opportunities to explore sustainability abound – You can build foundational knowledge of environmental issues in our courses, dive into the field with co-ops at innovative organizations tackling real-world challenges, and make meaningful community connections in a service-learning project. \\xa0', 'language': 'en', 'source': 'https://wit.edu/sustainability/learn-sustainability', 'source_type': 'normal_text_short', 'title': 'Learn Sustainability | Wentworth'}),\n",
       " Document(page_content='Meet', metadata={'description': \"At Wentworth, you'll enjoy small college comforts and big city excitement. Our 31-acre campus\\xa0in the heart of Boston\\xa0boasts a tree-lined quad, modern and traditional residence halls, and diverse campus amenities such as a dining hall, bookstore, convenience store, the rich resources of the Douglas D. Schumann Library & Learning Commons, computer center, a 24-hour Police Department, and numerous social activities.\\xa0\", 'language': 'en', 'source': 'https://wit.edu/student-life/reslife', 'source_type': 'normal_text_short', 'title': 'Housing & Residential Education | Wentworth'}),\n",
       " Document(page_content='Meet', metadata={'description': 'Contact Lisa Lessard to add your job to the Student Employment list below:\\xa0Office Assistant - Coops and CareersCooperative Education and Career DevelopmentBeginning Fall 2022Responsibilities:', 'language': 'en', 'source': 'https://wit.edu/admissions/financial-aid/student-employment/by-title', 'source_type': 'normal_text_short', 'title': 'Jobs by Title | Wentworth'}),\n",
       " Document(page_content='Meet', metadata={'description': \"Learn about the Electrical Engineering Master's Degree at Wentworth Institute of Technology, located right in the heart of downtown Boston, MA.\", 'language': 'en', 'source': 'https://wit.edu/academics/engineering/degrees/masters/electrical-engineering', 'source_type': 'normal_text_short', 'title': \"Electrical Engineering Master's Degree in Boston | Wentworth\"}),\n",
       " Document(page_content='Meet', metadata={'description': \"Undergraduate Degree – GPA requirementStudents who believe they are ready to receive their undergraduate degree from Wentworth and have a grade point average of 2.0 or higher are required to complete a formal graduation application. Students with a cumulative GPA of less than 2.0 will not be permitted to apply to graduate until the minimum 2.0 GPA has been met. Graduation applications are submitted via LeopardWeb and are required to ensure the Registrar's Office has received all student credentials.\", 'language': 'en', 'source': 'https://wit.edu/academics/registrar/grad-req', 'source_type': 'normal_text_short', 'title': 'Graduation Requirements & Diplomas | Wentworth'}),\n",
       " Document(page_content='Meet', metadata={'description': \"Learn about the Computer Engineering Master's Degree at Wentworth Institute of Technology, located right in the heart of downtown Boston, MA.\", 'language': 'en', 'source': 'https://wit.edu/academics/engineering/degrees/masters/computer-engineering', 'source_type': 'normal_text_short', 'title': \"Computer Engineering Master's Degree in Boston | Wentworth\"}),\n",
       " Document(page_content='Meet', metadata={'language': 'en', 'source': 'https://wit.edu/about/events/commencement/faq', 'source_type': 'normal_text_short', 'title': 'Commencement FAQ | Wentworth'}),\n",
       " Document(page_content='Meet', metadata={'description': 'Grants provide money that does not need to be paid back, which lowers the cost of paying for college. They can be provided by Wentworth, the federal government, individual states and private organizations. Below is information about various grants.', 'language': 'en', 'source': 'https://wit.edu/admissions/financial-aid/grants', 'source_type': 'normal_text_short', 'title': 'Grants | Wentworth'}),\n",
       " Document(page_content='Meet', metadata={'description': 'If there is a gap in your ability to fully fund your educational costs after any scholarships, financial aid and personal or family support, a number of loan options and semester payment plan options are available to you. Many students and their families use a combination of methods to fully fund their costs.', 'language': 'en', 'source': 'https://wit.edu/admissions/financial-aid/loans', 'source_type': 'normal_text_short', 'title': 'Loans | Wentworth'}),\n",
       " Document(page_content='Meet', metadata={'language': 'en', 'source': 'https://wit.edu/student-life/reslife/housing-selection', 'source_type': 'normal_text_short', 'title': 'Housing Selection | Wentworth'}),\n",
       " Document(page_content='Meet', metadata={'language': 'en', 'source': 'https://wit.edu/co-ops-careers/co-ops', 'source_type': 'normal_text_short', 'title': 'What is a Co-op? | Wentworth'}),\n",
       " Document(page_content='Meet', metadata={'description': \"The Tech Spot is Wentworth's Technology Help Desk. From accounts to laptops\\xa0and printing to software, we support all services offered by the university and are home to two additional teams listed below.\", 'language': 'en', 'source': 'https://wit.edu/about/technology-services/tech-spot', 'source_type': 'normal_text_short', 'title': 'Tech Spot | Wentworth'}),\n",
       " Document(page_content='Meet', metadata={'description': 'A PDF version of the Wentworth Student Code of Conduct (2023-24) can be found here.\\xa0', 'language': 'en', 'source': 'https://wit.edu/student-life/student-handbook/toc', 'source_type': 'normal_text_short', 'title': 'Student Handbook Contents | Wentworth'}),\n",
       " Document(page_content='Meet', metadata={'description': 'For your security, we cannot view your current password and simply tell it to you. Self Service Password allows you to authenticate if you have forgotten your password with an alternate method (text or alternative email), in order to access your account, without calling the Tech Spot. If you are not currently enrolled in Self Service Password Reset you may enroll here:\\xa0Self Service Password Reset.\\xa0', 'language': 'en', 'source': 'https://wit.edu/about/technology-services/help-docs/self-service-password', 'source_type': 'normal_text_short', 'title': 'Self Service Password Reset | Wentworth'}),\n",
       " Document(page_content='Meet', metadata={'description': \"The Controller's office team is committed to the following:\\xa0\", 'language': 'en', 'source': 'https://wit.edu/about/controller', 'source_type': 'normal_text_short', 'title': 'Controller | Wentworth'}),\n",
       " Document(page_content='Meet', metadata={'description': 'Purchasing professionals must have a highly developed sense of professional ethics to protect their own and their institution’s reputation for fair dealing. To strengthen ethical awareness, and to provide guidelines for its members, NAEP has long promoted a code of ethics.', 'language': 'en', 'source': 'https://wit.edu/about/purchasing/code-of-ethics', 'source_type': 'normal_text_short', 'title': 'Purchasing Code of Ethics | Wentworth'}),\n",
       " Document(page_content='Meet', metadata={'description': 'Introduction Wentworth Institute of Technology recognizes that its purchasing decisions have implications for the local economy and broader society. As such, Wentworth is embarking on a process to work with its suppliers to promote a common set of ethics and standards throughout the College’s supply chain, including environmental, social, and economic aspects of sustainability. Scope This document establishes a code of conduct to ensure current and potential College suppliers act in accordance with the College’s ethical and environmental standards.', 'language': 'en', 'source': 'https://wit.edu/about/purchasing/supplier-code-of-conduct', 'source_type': 'normal_text_short', 'title': 'Supplier Code of Conduct | Wentworth'}),\n",
       " Document(page_content='Meet', metadata={'description': 'Wentworth students work hard to achieve academic success, and the university is here to support them - from academic tutoring to helpful librarians to technology support.\\xa0', 'language': 'en', 'source': 'https://wit.edu/academics/resources', 'source_type': 'normal_text_short', 'title': 'Learning & Advising Resources | Wentworth'}),\n",
       " Document(page_content='Meet', metadata={'description': \"The Information Security Office is working to ensure the confidentiality, integrity, and availability of Wentworth's information assets.\\xa0This includes a wide range of services for the Wentworth community, including:\", 'language': 'en', 'source': 'https://wit.edu/about/technology-services/info-security', 'source_type': 'normal_text_short', 'title': 'About the Information Security Office | Wentworth'}),\n",
       " Document(page_content='Meet', metadata={'language': 'en', 'source': 'https://wit.edu/directory', 'source_type': 'normal_text_short', 'title': 'Faculty & Staff Directory | Wentworth'}),\n",
       " Document(page_content='Meet', metadata={'description': 'While the return on investment is there, paying for tuition can be a big-ticket item and we want to make it as easy and flexible as possible for our students and their families.\\xa0', 'language': 'en', 'source': 'https://wit.edu/admissions/student-services/billing', 'source_type': 'normal_text_short', 'title': 'Billing & Payments | Wentworth'}),\n",
       " Document(page_content='Meet', metadata={'description': 'Parking at Wentworth Institute of Technology is considered a privilege. Faculty, staff, students, and visitors all share the limited spaces available on our campus.All vehicles operated on any university-owned property must be registered with the Wentworth Police Parking & ID Office and have an active car insurance policy. All unregistered and/or uninsured vehicles will be removed from campus at the vehicle owner’s expense.A hang-tag style parking permit is issued to faculty and staff members who have elected to pay for a parking permit.', 'language': 'en', 'source': 'https://wit.edu/student-life/public-safety/parking-policy', 'source_type': 'normal_text_short', 'title': '2023-2024 Parking Rules & Regulations | Wentworth'}),\n",
       " Document(page_content='Meet', metadata={'description': 'Lecture halls and textbooks just not cutting it for your professional goals? Maybe you’re a builder, an inventor, a tinkerer. Or a troubleshooter who enjoys rolling up your sleeves to find solutions. That’s exactly why so many students transfer to Wentworth. Driven by curiosity and fueled by passion, we combine top-notch academics with real-world experience — so you can start accelerating your career even before you graduate. We are a school designed for people like you.', 'language': 'en', 'source': 'https://wit.edu/admissions/undergraduate/transfer-students', 'source_type': 'normal_text_short', 'title': 'Undergraduate Transfer Students | Wentworth'}),\n",
       " Document(page_content='Meet', metadata={'description': 'The Wentworth Police Department is committed to the philosophy of Community Oriented Policing and works closely with other campus departments, as well as off-campus law enforcement agencies, to resolve issues affecting public safety.The Department provides a full range of police services to the college community 24 hours a day year-round. Campus patrols are conducted by certified sworn Massachusetts Special State Police Officers who are also Suffolk County Deputy Sheriffs. Patrols are conducted on foot, mountain bike, and cruiser.\\xa0', 'language': 'en', 'source': 'https://wit.edu/about/public-safety', 'source_type': 'normal_text_short', 'title': 'Wentworth Police | Wentworth'}),\n",
       " Document(page_content='Meet', metadata={'description': 'An information security incident is an event that compromises the confidentiality, integrity, or availability of an information asset-such as a file or data elements within-or an information system-a workstation, server, or application. An incident can occur through a variety of means, potential indicators include:', 'language': 'en', 'source': 'https://wit.edu/about/technology-services/help-docs/report-incident', 'source_type': 'normal_text_short', 'title': 'Report an Information Security Incident | Wentworth'}),\n",
       " Document(page_content='Meet', metadata={'description': 'Wentworth’s bachelor’s and master’s degree programs encompass in-demand programs and majors that meet the labor market demand and produce graduates who consistently bring extraordinary value to their organizations and to the world.We are located in the heart of Boston, the innovation hub for the East Coast of the United States, and home to some of the fastest growing companies and non-profits in research and development, high-technology, medicine, education, finance, and start-ups across all industries.', 'language': 'en', 'source': 'https://wit.edu/admissions/international', 'source_type': 'normal_text_short', 'title': 'International Admissions | Wentworth'}),\n",
       " Document(page_content='Meet', metadata={'description': 'Learn about the Engineering Undergraduate Degree at Wentworth Institute of Technology, located right in the heart of downtown Boston, MA.', 'language': 'en', 'source': 'https://wit.edu/academics/engineering/degrees/undergraduate/engineering', 'source_type': 'normal_text_short', 'title': 'Engineering Undergraduate Degree in Boston | Wentworth'}),\n",
       " Document(page_content='Meet', metadata={'description': 'Welcome to Wentworth!Over the next several years, Wentworth will be your home away from home as you engage in thoughtful classroom discussion, participate in campus activities and traditions, and develop new skills. Between now and the first day of class on September 3, there are number of ways that we will welcome you to the Wentworth family and prepare you for a successful college career. Programs for our new students include New Student Orientation (NSO) programs,\\xa0Wentworth Opening Week\\xa0(WOW), and social and educational programming throughout the fall semester.', 'language': 'en', 'source': 'https://wit.edu/student-life/new-student-resources', 'source_type': 'normal_text_short', 'title': 'New Student Resources | Wentworth'}),\n",
       " Document(page_content='Meet', metadata={'description': 'Leave of Absence or Withdrawal for Undergraduate StudentsAll Wentworth students must register for classes each semester (excluding freshman and sophomore summer semesters) until graduation. Students who decide not to register for classes for one semester only must fill out a Leave of Absence (LOA) form. Students are also encouraged to inform faculty advisors and/or student success advisors about their plans so that their upcoming semester plans can be adjusted.', 'language': 'en', 'source': 'https://wit.edu/academics/registrar/withdrawing', 'source_type': 'normal_text_short', 'title': 'Withdrawing from Wentworth | Wentworth'}),\n",
       " Document(page_content='Meet', metadata={'description': 'Welcome to Commuter and Off-Campus Student Life at Wentworth Institute of Technology! Our goal is to help students who commute to campus have an engaging and enriching Wentworth experience. The Center for Student Life and departments across campus offer several services, programs, and opportunities for involvement with this goal in mind. If you have any questions, concerns, or feedback about the commuter student experience at Wentworth, email studentlife@wit.edu.\\xa0', 'language': 'en', 'source': 'https://wit.edu/student-life/commuters', 'source_type': 'normal_text_short', 'title': 'Commuter & Off-Campus Student Life | Wentworth'}),\n",
       " Document(page_content='Meet', metadata={'description': 'Some class sections will have the option to join a waitlist for the class if it is full.\\xa0 You can see the waitlist information in LeopardWeb when you are searching for classes: If the desired class has a waitlist, there will be a number other than 0 in the WL Cap column.', 'language': 'en', 'source': 'https://wit.edu/academics/registrar/how-to/waitlist-information', 'source_type': 'normal_text_short', 'title': 'Waitlist Information | Wentworth'}),\n",
       " Document(page_content='Meet', metadata={'description': \"Wentworth faculty, experts in their field, and diverse in their backgrounds share a love for\\xa0teaching and mentoring. Student success is of paramount importance at Wentworth. Learning happens everywhere at Wentworth from\\xa0the classrooms, labs, studios, maker spaces, the field and online. Tapping into students’ individual passions and interests,\\xa0Wentworth's professors are seen energetically gesturing at the front of a classroom room, sitting next to a team of students solving problems, or cheering on students as they present their work. \\xa0\", 'language': 'en', 'source': 'https://wit.edu/academics/faculty', 'source_type': 'normal_text_short', 'title': 'Faculty | Wentworth'}),\n",
       " Document(page_content='Meet', metadata={'description': \"We’re here to help you determine the best way to afford a Wentworth education. Since everyone’s financial situation is unique, our financial advisors will work with you one-on-one to help you get the information and assistance you need.Wentworth students have\\xa0several\\xa0available financial aid and scholarship\\xa0options,\\xa0and the Financial Aid staff is dedicated to helping our students and their families find the aid that's right for them. Over 80% of our students receive some form of financial aid to help bridge the financial gap and make your educational investment that much easier.\\xa0\\xa0\", 'language': 'en', 'source': 'https://wit.edu/admissions/financial-aid', 'source_type': 'normal_text_short', 'title': 'Financial Aid & Scholarships | Wentworth'}),\n",
       " Document(page_content='Meet', metadata={'description': 'Wentworth Institute of Technology is a technology university in Boston with five schools focused on Engineering, Computing, Design and Management. It is ranked as one of the best engineering schools by U.S. News & World Report and Best Values by Payscale.com.', 'language': 'en', 'source': 'https://wit.edu/', 'source_type': 'normal_text_short', 'title': 'Wentworth: Technology-focused University in Boston, MA | Wentworth'}),\n",
       " Document(page_content='Meet', metadata={'description': \"The Registrar's Office helps students, faculty, alumni, and staff with accurate and timely processing of data related to course offerings, registration and academic records, academic policies and procedures, data procurement, and security and privacy for the university's academic records.\", 'language': 'en', 'source': 'https://wit.edu/academics/registrar', 'source_type': 'normal_text_short', 'title': \"Registrar's Office | Wentworth\"}),\n",
       " Document(page_content='Meet', metadata={'description': 'Start Your Future Today! Whether you’re just starting your college career, transferring from another school, upskilling, or pursuing graduate opportunities, Wentworth gives you the tools you need to transform your world — and shape your future. You’ve worked hard. You’ve planned for this moment. Now claim your place at Wentworth.', 'language': 'en', 'source': 'https://wit.edu/admissions/apply-now', 'source_type': 'normal_text_short', 'title': 'Apply to Degrees & Programs at Wentworth | Wentworth'}),\n",
       " Document(page_content='Meet', metadata={'description': '1. ScopeWentworth is committed to environmentally preferable purchasing. Environmentally preferable means \"products or services that have a lesser or reduced effect on human health and the environment when compared with competing products or services that serve the same purpose\".Wentworth’s objective is to balance environmental and fiscal responsibilities in making Green Purchasing decisions. This policy applies to the purchase of materials in the following categories:', 'language': 'en', 'source': 'https://wit.edu/about/purchasing/green', 'source_type': 'normal_text_short', 'title': 'Wentworth’s Green Purchasing Policy | Wentworth'}),\n",
       " Document(page_content='Meet', metadata={'description': 'Wentworth Institute of Technology is committed to creating a supportive learning and social\\xa0environment for all members of the campus community. Wentworth depends on members of the community to identify and share information so the University can provide the appropriate support and\\xa0resources to those who are impacted and/or who may need additional assistance. Please utilize the forms below to submit a formal report or request. We take seriously these submissions because the health and well-being of everyone is a priority here.\\xa0', 'language': 'en', 'source': 'https://wit.edu/about/reporting', 'source_type': 'normal_text_short', 'title': 'Reporting Forms | Wentworth'}),\n",
       " Document(page_content='Meet', metadata={'language': 'en', 'source': 'https://wit.edu/events', 'source_type': 'normal_text_short', 'title': 'Event Listing | Wentworth'}),\n",
       " Document(page_content='Meet', metadata={'description': \"Wentworth strives to make the transition to college as easy and seamless as possible for our incoming students and their families. We also want to keep families connected and informed during their student's time here at the school. Check out our multitude of resources for new students and families at the links below.\", 'language': 'en', 'source': 'https://wit.edu/student-life/new-students-families', 'source_type': 'normal_text_short', 'title': 'New Students & Families | Wentworth'}),\n",
       " Document(page_content='Meet', metadata={'description': 'Wentworth Institute of Technology provides students at the elementary, middle, and high school levels with the opportunity to explore educational\\xa0opportunities in science, engineering or design. Our interactive programs provide a unique, hands-on and experiential opportunity to explore concepts in STEM and design that will igniting your future passions.', 'language': 'en', 'source': 'https://wit.edu/admissions/pre-college', 'source_type': 'normal_text_short', 'title': 'Pre-College | Wentworth'}),\n",
       " Document(page_content='Meet', metadata={'description': \"A student's future is priceless and the possibilities are endless, so let's make the most of it. Whatever the situation, if students are curious and driven, we are here to help make their dreams a reality.\", 'language': 'en', 'source': 'https://wit.edu/admissions/student-services/billing/tuition-and-costs', 'source_type': 'normal_text_short', 'title': 'Tuition & Costs | Wentworth'}),\n",
       " Document(page_content='Meet', metadata={'description': \"The Hub of the Hub: Where Technology Meets CultureBoston is an incubator for innovation and an epicenter of history, and we’re conveniently located at the heart of it all. Our 31-acre campus in the center of the city provides you access to over 60 labs and studios, amenity-rich residence halls, a newly renovated dining common, and easy public transport to the best of Boston. We guarantee housing for all four years of your undergraduate studies, so you can truly make Boston home while you're here. \\xa0\", 'language': 'en', 'source': 'https://wit.edu/admissions/undergraduate/visit', 'source_type': 'normal_text_short', 'title': \"Tour Wentworth's Campus in Boston, MA | Wentworth\"}),\n",
       " Document(page_content='Meet', metadata={'description': 'AdmissionsMonday– Friday: 8:15am - 4:45pmSaturday & Sunday:\\xa0ClosedThe Admissions Office will be open for campus tours on select Saturdays during the fall and spring semester. More information about these tours can be found on our visit page.Athletic Facility (Nelson)Monday – Friday: 6am – 8pmSaturday: 10am – 6pmSunday: 11am -7pm', 'language': 'en', 'source': 'https://wit.edu/about/campus-hours', 'source_type': 'normal_text_short', 'title': 'Campus Hours | Wentworth'}),\n",
       " Document(page_content='Meet', metadata={'description': \"The Hub of the Hub: Where Technology Meets CultureBoston is an incubator for innovation and an epicenter of history, and we’re conveniently located at the heart of it all. Our 31-acre campus in the center of the city provides you access to over 60 labs and studios, amenity-rich residence halls, a newly renovated dining common, and easy public transport to the best of Boston. We guarantee housing for all four years of your undergraduate studies, so you can truly make Boston home while you're here. \\xa0\", 'language': 'en', 'source': 'https://wit.edu/admissions/undergraduate/visit', 'source_type': 'normal_text_short', 'title': \"Tour Wentworth's Campus in Boston, MA | Wentworth\"}),\n",
       " Document(page_content='Meet', metadata={'description': 'Wentworth Institute of Technology is a technology university in Boston with five schools focused on Engineering, Computing, Design and Management. It is ranked as one of the best engineering schools by U.S. News & World Report and Best Values by Payscale.com.', 'language': 'en', 'source': 'https://wit.edu/', 'source_type': 'normal_text_short', 'title': 'Wentworth: Technology-focused University in Boston, MA | Wentworth'}),\n",
       " Document(page_content='Meet', metadata={'description': 'Digital Technology Services (DTS) supports technology at the University across all colleges and business units. We represent our team aligned with the Wentworth \"W\". Two core concepts, Client Experience & Enterprise Services are a foundation for our support of Student Success. Tech Spot is Wentworth\\'s Technology Help Desk and your go-to place for help with everything from accounts to laptops.', 'language': 'en', 'source': 'https://wit.edu/about/technology-services/about-tech-services', 'source_type': 'normal_text_short', 'title': 'About Technology Services | Wentworth'}),\n",
       " Document(page_content='Meet', metadata={'description': 'Your username and password - sometimes referred to as your Wentworth Network Account - is your key to virtually all systems and services.', 'language': 'en', 'source': 'https://wit.edu/about/technology-services/help-docs/usernames', 'source_type': 'normal_text_short', 'title': 'Usernames and Passwords | Wentworth'}),\n",
       " Document(page_content='Meet', metadata={'description': 'Wentworth Institute of Technology is a collaborative, mission-driven community of educators and professionals committed to excellence in ourselves and in the students we teach and support. As an equal opportunity employer, we are committed to continuing to develop a richly diverse faculty, staff, and student body.', 'language': 'en', 'source': 'https://wit.edu/careers/work-wentworth', 'source_type': 'normal_text_short', 'title': 'Work at Wentworth | Wentworth'}),\n",
       " Document(page_content='Meet', metadata={'description': 'How to Request Degree & Enrollment VerificationsDegree Verifications:ATTENTION: APRIL 2024 DEGREE VERIFICATIONS WILL NOT BE AVAILABLE UNTIL MAY 15, 2024.', 'language': 'en', 'source': 'https://wit.edu/academics/registrar/verifications', 'source_type': 'normal_text_short', 'title': 'Degree & Enrollment Verifications | Wentworth'}),\n",
       " Document(page_content='Meet', metadata={'description': 'The degree audit is a useful tool that helps you track your progress towards degree completion.\\xa0 Below you can find instructions for how to find and generate your degree audit. HOW TO GENERATE A DEGREE AUDIT VIA LEOPARDWEB Sign into MyWentworth', 'language': 'en', 'source': 'https://wit.edu/academics/registrar/degree-audit', 'source_type': 'normal_text_short', 'title': 'Degree Audit | Wentworth'}),\n",
       " Document(page_content='Meet', metadata={'description': 'By accepting this Standard Form of Purchase Order (hereinafter referred to as \"the Order\") the Vendor accepts the Terms and Conditions included herein, unless the Vendor notifies Wentworth Institute of Technology (hereinafter referred to as \"the Buyer\") of the Vendor\\'s objections.\\xa0', 'language': 'en', 'source': 'https://wit.edu/about/purchasing/terms-and-conditions', 'source_type': 'normal_text_short', 'title': 'Purchase Order Terms and Conditions | Wentworth'}),\n",
       " Document(page_content='Meet', metadata={'description': \"Our labs and studios are places of common inspiration for our students. The Wentworth culture of learning and problem-solving centers on our students' ability to collaborate, innovate and create with cutting-edge\\xa0tools they need to further their education.\", 'language': 'en', 'source': 'https://wit.edu/labs-redirect', 'source_type': 'normal_text_short', 'title': 'Campus Labs & Studios | Wentworth'}),\n",
       " Document(page_content='Meet', metadata={'language': 'en', 'source': 'https://wit.edu/about/offices-departments', 'source_type': 'normal_text_short', 'title': 'Offices & Departments | Wentworth'}),\n",
       " Document(page_content='Meet', metadata={'language': 'en', 'source': 'https://wit.edu/news', 'source_type': 'normal_text_short', 'title': 'Wentworth News | Wentworth'}),\n",
       " Document(page_content='Meet', metadata={'description': \"The Hub of the Hub: Where Technology Meets CultureBoston is an incubator for innovation and an epicenter of history, and we’re conveniently located at the heart of it all. Our 31-acre campus in the center of the city provides you access to over 60 labs and studios, amenity-rich residence halls, a newly renovated dining common, and easy public transport to the best of Boston. We guarantee housing for all four years of your undergraduate studies, so you can truly make Boston home while you're here. \\xa0\", 'language': 'en', 'source': 'https://wit.edu/admissions/undergraduate/visit', 'source_type': 'normal_text_short', 'title': \"Tour Wentworth's Campus in Boston, MA | Wentworth\"}),\n",
       " Document(page_content='Meet', metadata={'language': 'en', 'source': 'https://wit.edu/faculty-staff-directory?search=&dept=&school=807', 'source_type': 'normal_text_short', 'title': 'Faculty & Staff Directory | Wentworth'}),\n",
       " Document(page_content='Meet', metadata={'description': \"Make it Real at WentworthWentworth welcomes curious, proactive, action-oriented and career-minded students who want to get things done. The troubleshooters who enjoy rolling up their sleeves to find solutions to today's problems, big and small. You’re the kind of person who would like to help the world work better. And we want to guide you on that path.\", 'language': 'en', 'source': 'https://wit.edu/admissions/undergraduate/first-year', 'source_type': 'normal_text_short', 'title': 'First-Year Undergraduate Programs in Boston, MA | Wentworth'}),\n",
       " Document(page_content='Meet', metadata={'description': 'The Wentworth Bachelor of Science in Mechanical Engineering program is accredited by the Engineering Accreditation Commission of ABET.\\xa0Program Educational Objectives\\xa0Graduates of the mechanical engineering program will (within a few years of graduation):', 'language': 'en', 'source': 'https://wit.edu/accreditation/abet-accreditation/mechanical-engineering-accreditation-information', 'source_type': 'normal_text_short', 'title': 'Mechanical Engineering Accreditation Information | Wentworth'}),\n",
       " Document(page_content='Meet', metadata={'language': 'en', 'source': 'https://wit.edu/academics/registrar/how-to/how-register-classes', 'source_type': 'normal_text_short', 'title': 'How to Register for Classes | Wentworth'}),\n",
       " Document(page_content='Meet', metadata={'description': 'Technical Electives, Major Electives, and Humanities and Social Science (HSS) electives offered:', 'language': 'en', 'source': 'https://wit.edu/academics/registrar/how-to/technical-major-and-huss-electives', 'source_type': 'normal_text_short', 'title': 'Technical, Major and HSS Electives | Wentworth'}),\n",
       " Document(page_content='Meet', metadata={'description': 'Universities make a lot of promises but at the end of four\\xa0years what do they really deliver? At Wentworth, we offer the educational programs for which there is a strong labor market demand\\xa0that enables us to produce graduates who consistently bring extraordinary value to their organizations and to the world. We walk the talk with hands-on learning, required cooperative education\\xa0experiences and caring faculty. Read on to discover our\\xa0promise to you and our strategy to make these promises a reality.\\xa0\\xa0 \\xa0', 'language': 'en', 'source': 'https://wit.edu/about', 'source_type': 'normal_text_short', 'title': 'Why Wentworth? | Wentworth'}),\n",
       " Document(page_content='Meet', metadata={'description': \"Wentworth's Forward Progress As it celebrates its 116th birthday in 2020, Wentworth Institute of Technology isn’t pausing to rest and reflect. Rather, the university is moving forward boldly—an institution re-envisioned and realigned under the leadership of President Mark A. Thompson\", 'language': 'en', 'source': 'https://wit.edu/about/president', 'source_type': 'normal_text_short', 'title': 'Office of the President | Wentworth'}),\n",
       " Document(page_content='Meet', metadata={'description': 'Transforming Every Industry With Cutting Edge SolutionsThe School of Computing & Data Science provides cutting-edge instruction that is relevant and applicable to all industries, local and global. You learn through real-world examples from friendly and approachable faculty in small-class settings and state-of-the-art labs.', 'language': 'en', 'source': 'https://wit.edu/academics/computing-data-science', 'source_type': 'normal_text_short', 'title': 'School of Computing & Data Science | Wentworth'}),\n",
       " Document(page_content='Meet', metadata={'description': 'Learn about the Electrical Engineering Undergraduate Degree at Wentworth Institute of Technology, located right in the heart of downtown Boston, MA.', 'language': 'en', 'source': 'https://wit.edu/academics/engineering/degrees/undergraduate/electrical-engineering', 'source_type': 'normal_text_short', 'title': 'Electrical Engineering Undergraduate Degree in Boston | Wentworth'}),\n",
       " Document(page_content='Meet', metadata={'description': 'The Wentworth Bachelor of Science in Engineering is accredited by the Engineering Accreditation Commission of ABET.\\xa0Program Educational Objectives\\xa0Graduates of the engineering program will (within a few years of graduation):\\xa0', 'language': 'en', 'source': 'https://wit.edu/accreditation/abet-accreditation/engineering-accreditation-information', 'source_type': 'normal_text_short', 'title': 'Engineering Accreditation Information | Wentworth'}),\n",
       " Document(page_content='Meet', metadata={'language': 'en', 'source': 'https://wit.edu/academics/resources/math-placement', 'source_type': 'normal_text_short', 'title': 'Math Placement FAQs | Wentworth'}),\n",
       " Document(page_content='Meet', metadata={'description': \"We recognize that families play an essential role in students' success at Wentworth. On this page, you will find information about resources that are available to you and your student, as well as periodic updates about major programs such as move-in, family weekend, and commencement.\\xa0For questions not answered by the resources and offices listed below, please reach out to Brian Quigley, Director of Transitions and Family Engagement at quigleyb@wit.edu or 617-989-4163.\\xa0\", 'language': 'en', 'source': 'https://wit.edu/student-life/new-student-resources/family', 'source_type': 'normal_text_short', 'title': 'Family Resources | Wentworth'}),\n",
       " Document(page_content='Meet', metadata={'description': 'Learn about the Data Science Undergraduate Degree at Wentworth Institute of Technology, located right in the heart of downtown Boston, MA.', 'language': 'en', 'source': 'https://wit.edu/academics/computing-data-science/degrees/undergraduate/data-science', 'source_type': 'normal_text_short', 'title': 'Data Science Undergraduate Degree in Boston | Wentworth'}),\n",
       " Document(page_content='Meet', metadata={'description': 'If you would like to view available courses at Wentworth\\xa0for the upcoming semester, please explore the\\xa0Course Schedule.Please email questions about transferring credit to Wentworth to\\xa0transfercredit@wit.edu.\\xa0', 'language': 'en', 'source': 'https://wit.edu/academics/registrar/transfer', 'source_type': 'normal_text_short', 'title': 'Transfer Credit | Wentworth'}),\n",
       " Document(page_content='Meet', metadata={'description': 'Living on Campus - Prospective StudentsWentworth provides the opportunity for all incoming first-time first-year students to live in campus housing. With our two-year residency requirement, incoming first-time first-year students are required to live on campus for their first two academic years. Students are invited and encouraged to live on campus after their second year -- students are required to complete all necessary paperwork and submit housing down-payments (if applicable) when communicated and due. \\xa0', 'language': 'en', 'source': 'https://wit.edu/student-life/reslife/prospective', 'source_type': 'normal_text_short', 'title': 'Prospective Students | Wentworth'}),\n",
       " Document(page_content='Meet', metadata={'description': \"Learn about the Applied Computer Science Master's Degree at Wentworth Institute of Technology, located right in the heart of downtown Boston, MA.\", 'language': 'en', 'source': 'https://wit.edu/academics/computing-data-science/degrees/masters/applied-computer-science', 'source_type': 'normal_text_short', 'title': \"Applied Computer Science Master's Degree in Boston | Wentworth\"}),\n",
       " Document(page_content='Meet', metadata={'description': 'In 2018, Wentworth’s Master of Architecture program was granted an eight-year term of accreditation (the maximum possible under the 2014 NAAB Conditions for Accreditation) from the National Architectural Accrediting Board (NAAB). Wentworth is required by NAAB to make the following information available to the public.\\xa0', 'language': 'en', 'source': 'https://wit.edu/learning/accreditation/architecture', 'source_type': 'normal_text_short', 'title': 'Architecture Accreditation | Wentworth'}),\n",
       " Document(page_content='Meet', metadata={'description': 'Your gift ensures that every student at Wentworth thrives while they are here. From the classroom to the field to the lab, donors like you provide the resources that help students on the path to success. Read on for ways that you can make an impact.', 'language': 'en', 'source': 'https://wit.edu/about/institutional-advancement/giving', 'source_type': 'normal_text_short', 'title': 'Giving with Impact | Wentworth'}),\n",
       " Document(page_content='Meet', metadata={'description': 'Regional accreditation is a peer-review process based on standards set by the higher education community with the involvement of the public. The New England Commission of Higher Education (NECHE) is the regional accreditation agency for colleges and universities in the six New England states: Connecticut, Maine, Massachusetts, New Hampshire, Rhode Island, and Vermont.', 'language': 'en', 'source': 'https://wit.edu/learning/accreditation/neche-accreditation', 'source_type': 'normal_text_short', 'title': 'NECHE Accreditation | Wentworth'}),\n",
       " Document(page_content='Meet', metadata={'description': 'Institutional Advancement and External Relations builds relationships, reputation, and resources to advance Wentworth and support its mission of providing our diverse community of learners with access to educational programs that are responsive to evolving market needs.', 'language': 'en', 'source': 'https://wit.edu/about/institutional-advancement', 'source_type': 'normal_text_short', 'title': 'Institutional Advancement & External Relations | Wentworth'}),\n",
       " Document(page_content='Meet', metadata={'description': 'Wentworth welcomes international students!\\xa0Applicants are considered international students if they are not a citizen or permanent resident of the United States. The following information will provide the details and documents you need to begin your application. We offer undergraduate and graduate degrees in five distinct schools.\\xa0Get ready for a challenging and rewarding educational journey. You will graduate in high demand for your expertise and ready to make a big difference in your career and community.\\xa0', 'language': 'en', 'source': 'https://wit.edu/about/diversity/international/prospective-students', 'source_type': 'normal_text_short', 'title': 'International Prospective Students | Wentworth'}),\n",
       " Document(page_content='Meet', metadata={'description': 'Developing Global Citizens and Lifelong LearnersThe School of Sciences and Humanities promotes intellectual curiosity by challenging students to ask big questions about the world around them. Students will find unique opportunities to apply their thirst for knowledge along with\\u202fscientific methods to address crucial issues from climate change and improved biotechnology to urban renewal and its effect on immigration. \\xa0', 'language': 'en', 'source': 'https://wit.edu/academics/sciences-humanities', 'source_type': 'normal_text_short', 'title': 'School of Sciences & Humanities | Wentworth'}),\n",
       " Document(page_content='Meet', metadata={'description': 'Wentworth Institute of Technology is a technology university in Boston with five schools focused on Engineering, Computing, Design and Management. It is ranked as one of the best engineering schools by U.S. News & World Report and Best Values by Payscale.com.', 'language': 'en', 'source': 'https://wit.edu/', 'source_type': 'normal_text_short', 'title': 'Wentworth: Technology-focused University in Boston, MA | Wentworth'}),\n",
       " Document(page_content='Meet', metadata={'description': \"Learn about the Architecture Master's Degree at Wentworth Institute of Technology, located right in the heart of downtown Boston, MA.\", 'language': 'en', 'source': 'https://wit.edu/academics/architecture-design/degrees/masters/architecture', 'source_type': 'normal_text_short', 'title': \"Architecture Master's Degree in Boston | Wentworth\"}),\n",
       " Document(page_content='Meet', metadata={'description': 'With over 70 student organizations at Wentworth, you are bound to find something that interests you. Jump on a podcast with Wentworth Internet Radio + Entertainment (WIRE), get into the scrum with our Men’s and Women’s Club Rugby teams, take a hike in the White Mountains with Outing Club, or build and test a concrete canoe with American Society of Civil Engineers. Browse our list of clubs & organizations below or on Leopard Spot. Whatever your interests, you will be able to Find Your FIT at WIT!', 'language': 'en', 'source': 'https://wit.edu/student-life/clubs-organizations', 'source_type': 'normal_text_short', 'title': 'Student Clubs & Organizations | Wentworth'}),\n",
       " Document(page_content='Meet', metadata={'description': 'Learn about the Interior Design Undergraduate Degree at Wentworth Institute of Technology, located right in the heart of downtown Boston, MA.', 'language': 'en', 'source': 'https://wit.edu/academics/architecture-design/degrees/undergraduate/interior-design', 'source_type': 'normal_text_short', 'title': 'Interior Design Undergraduate Degree in Boston | Wentworth'}),\n",
       " Document(page_content='Meet', metadata={'description': 'Learn about the Business Management Undergraduate Degree at Wentworth Institute of Technology, located right in the heart of downtown Boston, MA.', 'language': 'en', 'source': 'https://wit.edu/academics/management/degrees/undergraduate/business-management', 'source_type': 'normal_text_short', 'title': 'Business Management Undergraduate Degree in Boston | Wentworth'}),\n",
       " Document(page_content='Meet', metadata={'description': \"Building Transformative Global Leaders in Business and Construction\\xa0Capitalizing on Wentworth’s strengths in STEM and the built environment, Wentworth's School of Management develops well-rounded students engaged in real-world, hands-on, interdisciplinary projects. The School of Management offers distinct management pathways in both construction and business, and is home to undergraduate and graduate degrees, minors, and certificate programs in Construction Management, Project Management, Business Management, Facility Management, and Computer Information Systems. \\xa0\", 'language': 'en', 'source': 'https://wit.edu/academics/management', 'source_type': 'normal_text_short', 'title': 'School of Management | Wentworth'})]"
      ]
     },
     "execution_count": 55,
     "metadata": {},
     "output_type": "execute_result"
    }
   ],
   "source": [
    "query_result"
   ]
  },
  {
   "cell_type": "code",
   "execution_count": 56,
   "metadata": {},
   "outputs": [],
   "source": [
    "# Concatenate the content of the found documents\n",
    "for i, doc in enumerate(query_result):\n",
    "        found_docs = found_docs + doc.page_content + \" \"\n",
    "\n",
    "# Invoke a response from the queried data and context\n",
    "response = chain.invoke(\n",
    "    {\"context\": found_docs[:15000], \"question\": question},\n",
    ")"
   ]
  },
  {
   "cell_type": "code",
   "execution_count": 57,
   "metadata": {},
   "outputs": [
    {
     "data": {
      "text/plain": [
       "'Course Share Management Meet Project Courses | Course Course Course Management Meet Meet Meet Meet Meet Meet Meet Meet Meet Meet Meet Meet Meet Meet Meet Meet Meet Meet Meet Meet Meet Meet Meet Meet Meet Meet Meet Meet Meet Meet Meet Meet Meet Meet Meet Meet Meet Meet Meet Meet Meet Meet Meet Meet Meet Meet Meet Meet Meet Meet Meet Meet Meet Meet Meet Meet Meet Meet Meet Meet Meet Meet Meet Meet Meet Meet Meet Meet Meet Meet Meet Meet Meet Meet Meet Meet Meet Meet Meet Meet Meet Meet Meet Meet Meet Meet Meet Meet Meet Meet '"
      ]
     },
     "execution_count": 57,
     "metadata": {},
     "output_type": "execute_result"
    }
   ],
   "source": [
    "found_docs"
   ]
  },
  {
   "cell_type": "code",
   "execution_count": 58,
   "metadata": {},
   "outputs": [
    {
     "name": "stdout",
     "output_type": "stream",
     "text": [
      "Answer not in context\n"
     ]
    }
   ],
   "source": [
    "print(response)"
   ]
  },
  {
   "cell_type": "code",
   "execution_count": 59,
   "metadata": {},
   "outputs": [
    {
     "data": {
      "text/plain": [
       "'Answer not in context'"
      ]
     },
     "execution_count": 59,
     "metadata": {},
     "output_type": "execute_result"
    }
   ],
   "source": [
    "response"
   ]
  },
  {
   "cell_type": "code",
   "execution_count": 63,
   "metadata": {},
   "outputs": [],
   "source": [
    "\n",
    "links = []\n",
    "num_of_links = 5\n",
    " # Collect unique source links from the query result\n",
    "for index in range(len(query_result)):\n",
    "    if len(links) == num_of_links:\n",
    "        break\n",
    "    if query_result[index].metadata != {} and query_result[index].metadata['source'] not in links:\n",
    "        links.append(query_result[index].metadata['source'])"
   ]
  },
  {
   "cell_type": "code",
   "execution_count": 64,
   "metadata": {},
   "outputs": [
    {
     "data": {
      "text/plain": [
       "['https://catalog.wit.edu/sciences-humanities/humanities-social-sciences/science-and-technology-in-society/',\n",
       " 'https://coopsandcareers.wit.edu/jobs/category/co-ops/',\n",
       " 'https://catalog.wit.edu/management/management/',\n",
       " 'https://wit.edu/academics/resources/math-placement',\n",
       " 'https://coopsandcareers.wit.edu/channels/engineering/']"
      ]
     },
     "execution_count": 64,
     "metadata": {},
     "output_type": "execute_result"
    }
   ],
   "source": [
    "links"
   ]
  }
 ],
 "metadata": {
  "kernelspec": {
   "display_name": "Python 3",
   "language": "python",
   "name": "python3"
  },
  "language_info": {
   "codemirror_mode": {
    "name": "ipython",
    "version": 3
   },
   "file_extension": ".py",
   "mimetype": "text/x-python",
   "name": "python",
   "nbconvert_exporter": "python",
   "pygments_lexer": "ipython3",
   "version": "3.10.11"
  }
 },
 "nbformat": 4,
 "nbformat_minor": 2
}
