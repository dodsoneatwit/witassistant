{
 "cells": [
  {
   "cell_type": "code",
   "execution_count": 74,
   "metadata": {},
   "outputs": [],
   "source": [
    "import os\n",
    "from dotenv import load_dotenv\n",
    "from langchain_pinecone import Pinecone\n",
    "from langchain_ai21 import AI21ContextualAnswers\n",
    "from langchain_core.output_parsers import StrOutputParser\n",
    "from langchain_openai import ChatOpenAI, OpenAIEmbeddings\n",
    "\n"
   ]
  },
  {
   "cell_type": "code",
   "execution_count": 75,
   "metadata": {},
   "outputs": [
    {
     "data": {
      "text/plain": [
       "True"
      ]
     },
     "execution_count": 75,
     "metadata": {},
     "output_type": "execute_result"
    }
   ],
   "source": [
    "load_dotenv()"
   ]
  },
  {
   "cell_type": "code",
   "execution_count": 76,
   "metadata": {},
   "outputs": [],
   "source": [
    "# Access the environment variables\n",
    "openai_api_key = os.getenv('OPENAI_API_KEY')\n",
    "ai_twentyone_api_key = os.getenv('AI_TWENTYONE_API_KEY')\n",
    "pinecone_api_key = os.getenv('PINECONE_API_KEY')\n",
    "pc_index_wit = os.getenv('PINECONE_WIT_STANDARD')"
   ]
  },
  {
   "cell_type": "code",
   "execution_count": 77,
   "metadata": {},
   "outputs": [],
   "source": [
    "os.environ[\"AI21_API_KEY\"] = ai_twentyone_api_key\n",
    "os.environ['OPENAI_API_KEY'] = openai_api_key\n",
    "os.environ['PINECONE_API_KEY'] = pinecone_api_key"
   ]
  },
  {
   "cell_type": "code",
   "execution_count": 78,
   "metadata": {},
   "outputs": [],
   "source": [
    "\n",
    "generalWit = Pinecone(\n",
    "    index_name=pc_index_wit,\n",
    "    embedding=OpenAIEmbeddings()\n",
    ")"
   ]
  },
  {
   "cell_type": "code",
   "execution_count": 84,
   "metadata": {},
   "outputs": [],
   "source": [
    "tsm = AI21ContextualAnswers()\n",
    "chain = tsm | StrOutputParser()\n",
    "\n",
    "\n",
    "question = \"What some of the clubs that exist at wentworth?\"\n",
    "query_result = generalWit.max_marginal_relevance_search(question, k=5, fetch_k=10)\n",
    "found_docs = \"\""
   ]
  },
  {
   "cell_type": "code",
   "execution_count": 85,
   "metadata": {},
   "outputs": [
    {
     "data": {
      "text/plain": [
       "[Document(page_content='What kind of clubs and organizations are available on campus?With over 70 student organizations at Wentworth, your studnent is bound to find something that interests them. Jump on a podcast with Wentworth Internet Radio + Entertainment (WIRE), get into the scrum with our Men’s and Women’s Club Rugby teams, take a hike in the White Mountains with', metadata={'description': 'Choosing a college is one of the biggest decisions you will help your child make. The Wentworth admissions team is here for you as you navigate the college search process. We are thrilled that you are joining us in exploring the exciting opportunities that await your child here.', 'language': 'en', 'source': 'https://wit.edu/admissions/undergraduate/parents-families', 'start_index': 20868.0, 'title': 'Parents & Families | Wentworth'}),\n",
       " Document(page_content='ClubKarting ClubWentworth Mentorship ProgramWentworth Military SocietyMilk ClubNational Electrical Contractors AssociationNational Organization of Minority Architecture StudentsNational Society of Black EngineersOuting Club', metadata={'description': 'With over 70 student organizations at Wentworth, you are bound to find something that interests you. Jump on a podcast with Wentworth Internet Radio + Entertainment (WIRE), get into the scrum with our Men’s and Women’s Club Rugby teams, take a hike in the White Mountains with Outing Club, or build and test a concrete canoe with American Society of Civil Engineers. Browse our list of clubs & organizations below or on Leopard Spot. Whatever your interests, you will be able to Find Your FIT at WIT!', 'language': 'en', 'source': 'https://wit.edu/student-life/clubs-organizations', 'start_index': 14736.0, 'title': 'Student Clubs & Organizations | Wentworth'}),\n",
       " Document(page_content='Equity and Community UnionFenway Running ClubFinancial Literacy AssociationFinancial Investment ClubFIRST Alumni Association of WentworthFrauHaus - Industrial Design Women at WentworthGaming ClubGreen TeamHispanic International Student UnityHockey (Club Sports)IEEE-Eta Kappa NuInstitute of Electrical and Electronic EngineersInternational Student', metadata={'description': 'With over 70 student organizations at Wentworth, you are bound to find something that interests you. Jump on a podcast with Wentworth Internet Radio + Entertainment (WIRE), get into the scrum with our Men’s and Women’s Club Rugby teams, take a hike in the White Mountains with Outing Club, or build and test a concrete canoe with American Society of Civil Engineers. Browse our list of clubs & organizations below or on Leopard Spot. Whatever your interests, you will be able to Find Your FIT at WIT!', 'language': 'en', 'source': 'https://wit.edu/student-life/clubs-organizations', 'start_index': 14335.0, 'title': 'Student Clubs & Organizations | Wentworth'}),\n",
       " Document(page_content='Student Clubs & Organizations | Wentworth\\n\\n\\n\\n\\n\\n\\n\\n\\n\\n\\n\\n\\n\\n\\n\\n\\n\\n\\n\\n\\n\\n\\n\\n\\n\\n\\n\\n\\n\\n\\n\\n\\n  Skip to main content\\n\\n\\n\\n\\n\\n\\n\\n\\n\\n\\n\\n\\n\\n\\n\\n\\n\\n\\n\\n\\n\\n\\n\\nOpen Search\\n\\n\\n\\n\\n\\n\\n\\n\\n\\n\\n        Toggle Menu\\n      \\n\\n\\n\\n\\n\\nMain Menu\\n\\n\\nAcademics \\n\\n\\nDegree Finder\\n\\n\\nSchool of Architecture & Design\\n\\n\\nSchool of Computing & Data Science\\n\\n\\nSchool of Engineering\\n\\n\\nSchool of Management', metadata={'description': 'With over 70 student organizations at Wentworth, you are bound to find something that interests you. Jump on a podcast with Wentworth Internet Radio + Entertainment (WIRE), get into the scrum with our Men’s and Women’s Club Rugby teams, take a hike in the White Mountains with Outing Club, or build and test a concrete canoe with American Society of Civil Engineers. Browse our list of clubs & organizations below or on Leopard Spot. Whatever your interests, you will be able to Find Your FIT at WIT!', 'language': 'en', 'source': 'https://wit.edu/student-life/clubs-organizations', 'start_index': 12.0, 'title': 'Student Clubs & Organizations | Wentworth'}),\n",
       " Document(page_content='What kind of clubs and organizations are available on campus?With over 70 student organizations at Wentworth, your studnent is bound to find something that interests them. Jump on a podcast with Wentworth Internet Radio + Entertainment (WIRE), get into the scrum with our Men’s and Women’s Club Rugby teams, take a hike in the White Mountains with', metadata={'description': 'Choosing a college is one of the biggest decisions you will help your child make. The Wentworth admissions team is here for you as you navigate the college search process. We are thrilled that you are joining us in exploring the exciting opportunities that await your child here.', 'language': 'en', 'source': 'https://wit.edu/admissions/undergraduate/parents-families', 'start_index': 20868.0, 'title': 'Parents & Families | Wentworth'})]"
      ]
     },
     "execution_count": 85,
     "metadata": {},
     "output_type": "execute_result"
    }
   ],
   "source": [
    "query_result"
   ]
  },
  {
   "cell_type": "code",
   "execution_count": 86,
   "metadata": {},
   "outputs": [
    {
     "data": {
      "text/plain": [
       "[Document(page_content='What kind of clubs and organizations are available on campus?With over 70 student organizations at Wentworth, your studnent is bound to find something that interests them. Jump on a podcast with Wentworth Internet Radio + Entertainment (WIRE), get into the scrum with our Men’s and Women’s Club Rugby teams, take a hike in the White Mountains with', metadata={'description': 'Choosing a college is one of the biggest decisions you will help your child make. The Wentworth admissions team is here for you as you navigate the college search process. We are thrilled that you are joining us in exploring the exciting opportunities that await your child here.', 'language': 'en', 'source': 'https://wit.edu/admissions/undergraduate/parents-families', 'start_index': 20868.0, 'title': 'Parents & Families | Wentworth'}),\n",
       " Document(page_content='ClubKarting ClubWentworth Mentorship ProgramWentworth Military SocietyMilk ClubNational Electrical Contractors AssociationNational Organization of Minority Architecture StudentsNational Society of Black EngineersOuting Club', metadata={'description': 'With over 70 student organizations at Wentworth, you are bound to find something that interests you. Jump on a podcast with Wentworth Internet Radio + Entertainment (WIRE), get into the scrum with our Men’s and Women’s Club Rugby teams, take a hike in the White Mountains with Outing Club, or build and test a concrete canoe with American Society of Civil Engineers. Browse our list of clubs & organizations below or on Leopard Spot. Whatever your interests, you will be able to Find Your FIT at WIT!', 'language': 'en', 'source': 'https://wit.edu/student-life/clubs-organizations', 'start_index': 14736.0, 'title': 'Student Clubs & Organizations | Wentworth'}),\n",
       " Document(page_content='Equity and Community UnionFenway Running ClubFinancial Literacy AssociationFinancial Investment ClubFIRST Alumni Association of WentworthFrauHaus - Industrial Design Women at WentworthGaming ClubGreen TeamHispanic International Student UnityHockey (Club Sports)IEEE-Eta Kappa NuInstitute of Electrical and Electronic EngineersInternational Student', metadata={'description': 'With over 70 student organizations at Wentworth, you are bound to find something that interests you. Jump on a podcast with Wentworth Internet Radio + Entertainment (WIRE), get into the scrum with our Men’s and Women’s Club Rugby teams, take a hike in the White Mountains with Outing Club, or build and test a concrete canoe with American Society of Civil Engineers. Browse our list of clubs & organizations below or on Leopard Spot. Whatever your interests, you will be able to Find Your FIT at WIT!', 'language': 'en', 'source': 'https://wit.edu/student-life/clubs-organizations', 'start_index': 14335.0, 'title': 'Student Clubs & Organizations | Wentworth'}),\n",
       " Document(page_content='Student Clubs & Organizations | Wentworth\\n\\n\\n\\n\\n\\n\\n\\n\\n\\n\\n\\n\\n\\n\\n\\n\\n\\n\\n\\n\\n\\n\\n\\n\\n\\n\\n\\n\\n\\n\\n\\n\\n  Skip to main content\\n\\n\\n\\n\\n\\n\\n\\n\\n\\n\\n\\n\\n\\n\\n\\n\\n\\n\\n\\n\\n\\n\\n\\nOpen Search\\n\\n\\n\\n\\n\\n\\n\\n\\n\\n\\n        Toggle Menu\\n      \\n\\n\\n\\n\\n\\nMain Menu\\n\\n\\nAcademics \\n\\n\\nDegree Finder\\n\\n\\nSchool of Architecture & Design\\n\\n\\nSchool of Computing & Data Science\\n\\n\\nSchool of Engineering\\n\\n\\nSchool of Management', metadata={'description': 'With over 70 student organizations at Wentworth, you are bound to find something that interests you. Jump on a podcast with Wentworth Internet Radio + Entertainment (WIRE), get into the scrum with our Men’s and Women’s Club Rugby teams, take a hike in the White Mountains with Outing Club, or build and test a concrete canoe with American Society of Civil Engineers. Browse our list of clubs & organizations below or on Leopard Spot. Whatever your interests, you will be able to Find Your FIT at WIT!', 'language': 'en', 'source': 'https://wit.edu/student-life/clubs-organizations', 'start_index': 12.0, 'title': 'Student Clubs & Organizations | Wentworth'}),\n",
       " Document(page_content='What kind of clubs and organizations are available on campus?With over 70 student organizations at Wentworth, your studnent is bound to find something that interests them. Jump on a podcast with Wentworth Internet Radio + Entertainment (WIRE), get into the scrum with our Men’s and Women’s Club Rugby teams, take a hike in the White Mountains with', metadata={'description': 'Choosing a college is one of the biggest decisions you will help your child make. The Wentworth admissions team is here for you as you navigate the college search process. We are thrilled that you are joining us in exploring the exciting opportunities that await your child here.', 'language': 'en', 'source': 'https://wit.edu/admissions/undergraduate/parents-families', 'start_index': 20868.0, 'title': 'Parents & Families | Wentworth'})]"
      ]
     },
     "execution_count": 86,
     "metadata": {},
     "output_type": "execute_result"
    }
   ],
   "source": [
    "query_result"
   ]
  },
  {
   "cell_type": "code",
   "execution_count": 87,
   "metadata": {},
   "outputs": [],
   "source": [
    "for i, doc in enumerate(query_result):\n",
    "    found_docs = found_docs + doc.page_content + \" \"\n",
    "response = chain.invoke(\n",
    "    {\"context\": found_docs, \"question\": question},\n",
    ")"
   ]
  },
  {
   "cell_type": "code",
   "execution_count": 88,
   "metadata": {},
   "outputs": [
    {
     "data": {
      "text/plain": [
       "\"Wentworth has over 70 student organizations, including the following:  \\n\\n- Wentworth Internet Radio + Entertainment (WIRE)  \\n- Men's and Women's Club Rugby  \\n- Club Karting  \\n- Wentworth Mentorship Program  \\n- Wentworth Military Society  \\n- Milk Club  \\n- National Electrical Contractors Association  \\n- National Organization of Minority Architecture Students  \\n- National Society of Black Engineers  \\n- Outing Club  \\n- Equity and Community Union  \\n- Fenway Running Club  \\n- Financial Literacy Association  \\n- Financial Investment Club  \\n- FIRST Alumni Association of Wentworth  \\n- FrauHaus - Industrial Design Women at Wentworth  \\n- Gaming Club  \\n- Green Team  \\n- Hispanic International Student Unity  \\n- IEEE-Eta Kappa Nu  \\n- Institute of Electrical and Electronic Engineers  \\n- International Student Student Clubs & Organizations\""
      ]
     },
     "execution_count": 88,
     "metadata": {},
     "output_type": "execute_result"
    },
    {
     "ename": "",
     "evalue": "",
     "output_type": "error",
     "traceback": [
      "\u001b[1;31mThe Kernel crashed while executing code in the the current cell or a previous cell. Please review the code in the cell(s) to identify a possible cause of the failure. Click <a href='https://aka.ms/vscodeJupyterKernelCrash'>here</a> for more info. View Jupyter <a href='command:jupyter.viewOutput'>log</a> for further details."
     ]
    }
   ],
   "source": [
    "response"
   ]
  }
 ],
 "metadata": {
  "kernelspec": {
   "display_name": "Python 3",
   "language": "python",
   "name": "python3"
  },
  "language_info": {
   "codemirror_mode": {
    "name": "ipython",
    "version": 3
   },
   "file_extension": ".py",
   "mimetype": "text/x-python",
   "name": "python",
   "nbconvert_exporter": "python",
   "pygments_lexer": "ipython3",
   "version": "3.10.11"
  }
 },
 "nbformat": 4,
 "nbformat_minor": 2
}
