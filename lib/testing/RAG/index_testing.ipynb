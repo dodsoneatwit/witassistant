{
 "cells": [
  {
   "cell_type": "code",
   "execution_count": 168,
   "metadata": {},
   "outputs": [],
   "source": [
    "import os\n",
    "from dotenv import load_dotenv\n",
    "from langchain_pinecone import Pinecone\n",
    "from langchain_ai21 import AI21ContextualAnswers\n",
    "from langchain_core.output_parsers import StrOutputParser\n",
    "from langchain_openai import ChatOpenAI, OpenAIEmbeddings\n",
    "\n"
   ]
  },
  {
   "cell_type": "code",
   "execution_count": 169,
   "metadata": {},
   "outputs": [],
   "source": [
    "# %pip install langchain-ai21\n",
    "# %python- install dotenv\n",
    "# %pip install --upgrade --quiet  \\\n",
    "#     langchain-pinecone \\\n",
    "#     langchain-openai \\\n",
    "#     langchain \\\n",
    "#     langchain-community \\\n",
    "#     pinecone-notebooks\n",
    "# %pip install langchain-openai\n",
    "# %pip install langchain core.output_parsers"
   ]
  },
  {
   "cell_type": "code",
   "execution_count": 170,
   "metadata": {},
   "outputs": [
    {
     "data": {
      "text/plain": [
       "True"
      ]
     },
     "execution_count": 170,
     "metadata": {},
     "output_type": "execute_result"
    }
   ],
   "source": [
    "load_dotenv()"
   ]
  },
  {
   "cell_type": "code",
   "execution_count": 171,
   "metadata": {},
   "outputs": [],
   "source": [
    "# Access the environment variables\n",
    "openai_api_key = os.getenv('OPENAI_API_KEY')\n",
    "ai_twentyone_api_key = os.getenv('AI_TWENTYONE_API_KEY')\n",
    "pinecone_api_key = os.getenv('PINECONE_API_KEY')\n",
    "pc_index_wit = os.getenv('PINECONE_WIT_STANDARD')"
   ]
  },
  {
   "cell_type": "code",
   "execution_count": 172,
   "metadata": {},
   "outputs": [],
   "source": [
    "os.environ[\"AI21_API_KEY\"] = ai_twentyone_api_key\n",
    "os.environ['OPENAI_API_KEY'] = openai_api_key\n",
    "os.environ['PINECONE_API_KEY'] = pinecone_api_key"
   ]
  },
  {
   "cell_type": "code",
   "execution_count": 173,
   "metadata": {},
   "outputs": [],
   "source": [
    "\n",
    "generalWit = Pinecone(\n",
    "    index_name=pc_index_wit,\n",
    "    embedding=OpenAIEmbeddings()\n",
    ")"
   ]
  },
  {
   "cell_type": "code",
   "execution_count": 221,
   "metadata": {},
   "outputs": [],
   "source": [
    "tsm = AI21ContextualAnswers()\n",
    "chain = tsm | StrOutputParser()\n",
    "\n",
    "\n",
    "question = \"Salem Othoman's email address and phone number?\"\n",
    "query_result = generalWit.max_marginal_relevance_search(question, k=5, fetch_k=10)\n",
    "found_docs = \"\""
   ]
  },
  {
   "cell_type": "markdown",
   "metadata": {},
   "source": [
    "# --Questions To Test Bot--\n",
    "\"Top earnings for students who graduate from Wentworth?\"\n",
    "\"What are the percentage of hispanics at Wentworth?\"\n",
    "\"Salem Othoman's email address and phone number?\"\n",
    "\"Credits needed for the three year computer science bachelors program?\"\n",
    "\"Programs within the school of computing and data science?\"\n",
    "\"What are some Student Services & Facilities?\"\n",
    "\"What is the Center for Wellness?\"\n",
    "\"Who is the Associate Dean for the Center for Wellness?\""
   ]
  },
  {
   "cell_type": "code",
   "execution_count": 222,
   "metadata": {},
   "outputs": [],
   "source": [
    "# query_result"
   ]
  },
  {
   "cell_type": "code",
   "execution_count": 223,
   "metadata": {},
   "outputs": [],
   "source": [
    "for i, doc in enumerate(query_result):\n",
    "    found_docs = found_docs + doc.page_content + \" \"\n",
    "response = chain.invoke(\n",
    "    {\"context\": found_docs, \"question\": question},\n",
    ")"
   ]
  },
  {
   "cell_type": "code",
   "execution_count": 224,
   "metadata": {},
   "outputs": [
    {
     "name": "stdout",
     "output_type": "stream",
     "text": [
      "Salem Othoman's email is othmans1@wit.edu and his phone number is 617-989-4500. \n",
      "\n",
      " --Related Links-- \n",
      "\n",
      "https://wit.edu/about/technology-services\n",
      "https://wit.edu/faculty-staff-directory?search=&dept=&school=805\n",
      "https://catalog.wit.edu/faculty/\n"
     ]
    }
   ],
   "source": [
    "print(f'{response} \\n\\n --Related Links-- \\n')\n",
    "for i in query_result:\n",
    "    if i.metadata != {}:\n",
    "        print(i.metadata['source'])\n"
   ]
  }
 ],
 "metadata": {
  "kernelspec": {
   "display_name": "Python 3",
   "language": "python",
   "name": "python3"
  },
  "language_info": {
   "codemirror_mode": {
    "name": "ipython",
    "version": 3
   },
   "file_extension": ".py",
   "mimetype": "text/x-python",
   "name": "python",
   "nbconvert_exporter": "python",
   "pygments_lexer": "ipython3",
   "version": "3.10.11"
  }
 },
 "nbformat": 4,
 "nbformat_minor": 2
}
