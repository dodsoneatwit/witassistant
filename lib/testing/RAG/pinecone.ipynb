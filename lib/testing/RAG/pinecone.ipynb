{
 "cells": [
  {
   "cell_type": "code",
   "execution_count": 36,
   "metadata": {},
   "outputs": [],
   "source": [
    "from langchain_community.document_loaders import TextLoader\n",
    "from langchain_openai import OpenAIEmbeddings\n",
    "from langchain_text_splitters import CharacterTextSplitter\n",
    "\n",
    "OPENAI_API_KEY = 'sk-proj-gnB8KP0GbrXROIZmAYRKT3BlbkFJveplnj1LUDtIpQcpH1ya'\n",
    "PINECONE_API_KEY = 'a7c4e75b-c3e3-4df0-862d-a9d22f030fe6'\n",
    "PINECONE_INDEX_NAME = 'testindex'"
   ]
  },
  {
   "cell_type": "markdown",
   "metadata": {},
   "source": [
    "## <b>TESTING PINECONE DATABASE EMBEDDINGS STORAGE</b>"
   ]
  },
  {
   "cell_type": "code",
   "execution_count": 37,
   "metadata": {},
   "outputs": [],
   "source": [
    "import os\n",
    "\n",
    "os.environ['OPENAI_API_KEY'] = OPENAI_API_KEY\n",
    "os.environ['PINECONE_API_KEY'] = PINECONE_API_KEY"
   ]
  },
  {
   "cell_type": "code",
   "execution_count": 38,
   "metadata": {},
   "outputs": [],
   "source": [
    "documents = []\n",
    "loader = [\n",
    "    TextLoader(\"./TestFiles/carsmovie.txt\"),\n",
    "    TextLoader(\"./TestFiles/civilrights.txt\")\n",
    "]\n",
    "\n",
    "documents = [ textload.load() for textload in loader ]\n"
   ]
  },
  {
   "cell_type": "code",
   "execution_count": 39,
   "metadata": {},
   "outputs": [
    {
     "data": {
      "text/plain": [
       "[[Document(page_content='\"Cars\" is a 2006 animated film produced by Pixar Animation Studios and released by Walt Disney Pictures. Directed by John Lasseter, the movie takes place in a world populated by anthropomorphic cars and other vehicles. The story follows a race car named Lightning McQueen, voiced by Owen Wilson, who finds himself stranded in the small town of Radiator Springs on Route 66 after accidentally detouring off the interstate.\\n\\nIn Radiator Springs, Lightning McQueen meets a variety of quirky characters, including Sally (a Porsche voiced by Bonnie Hunt), Mater (a tow truck voiced by Larry the Cable Guy), and Doc Hudson (a retired race car voiced by Paul Newman). Through his interactions with the residents of Radiator Springs, Lightning McQueen learns valuable lessons about friendship, community, and the importance of slowing down and appreciating the journey.\\n\\nThe film\\'s themes of friendship, redemption, and self-discovery, along with its stunning animation and heartwarming story, have made it a beloved classic among both children and adults. \"Cars\" was followed by two sequels, \"Cars 2\" (2011) and \"Cars 3\" (2017), as well as several short films and spin-off series. The franchise has also inspired theme park attractions, merchandise, and a dedicated fan base.', metadata={'source': './TestFiles/carsmovie.txt'})],\n",
       " [Document(page_content='The Civil Rights Movement was a pivotal social and political movement in the United States that aimed to end racial segregation and discrimination against African Americans. It took place primarily during the 1950s and 1960s, although its roots can be traced back to the post-Civil War Reconstruction era.\\n\\nKey events and figures of the Civil Rights Movement include:\\n\\n1. Brown v. Board of Education (1954)**: The Supreme Court case that declared segregation in public schools unconstitutional, overturning the \"separate but equal\" doctrine established in Plessy v. Ferguson.\\n\\n2. Montgomery Bus Boycott (1955-1956)**: Sparked by the arrest of Rosa Parks for refusing to give up her bus seat to a white passenger, this boycott was a significant protest against segregation on public transportation.\\n\\n3. Civil Rights Act of 1964**: This landmark legislation outlawed discrimination based on race, color, religion, sex, or national origin, and ended unequal application of voter registration requirements and racial segregation in schools, at the workplace, and by facilities that served the general public.\\n\\n4. Voting Rights Act of 1965**: Enacted to overcome legal barriers at the state and local levels that prevented African Americans from exercising their right to vote under the 15th Amendment to the Constitution.\\n\\n5. March on Washington for Jobs and Freedom (1963)**: This event is most famous for Martin Luther King Jr.\\'s \"I Have a Dream\" speech, which called for an end to racism and for civil and economic rights.\\n\\n6. Selma to Montgomery Marches (1965)**: These marches were a series of civil rights protests that drew national attention to the issue of voting rights and led to the passage of the Voting Rights Act.\\n\\n7. **Leadership**: Figures like Martin Luther King Jr., Rosa Parks, Malcolm X, and many others played key roles in organizing protests, advocating for change, and raising awareness about civil rights issues.\\n\\nThe Civil Rights Movement was instrumental in bringing about significant legal and social changes in the United States, leading to increased equality and civil rights protections for African Americans and other minority groups. However, the movement also faced significant opposition and challenges, including violence, resistance from government authorities, and deep-seated racism and discrimination.', metadata={'source': './TestFiles/civilrights.txt'})]]"
      ]
     },
     "execution_count": 39,
     "metadata": {},
     "output_type": "execute_result"
    }
   ],
   "source": [
    "documents"
   ]
  },
  {
   "cell_type": "code",
   "execution_count": 59,
   "metadata": {},
   "outputs": [
    {
     "data": {
      "text/plain": [
       "1268"
      ]
     },
     "execution_count": 59,
     "metadata": {},
     "output_type": "execute_result"
    }
   ],
   "source": [
    "len(documents[0][0].page_content)"
   ]
  },
  {
   "cell_type": "code",
   "execution_count": 55,
   "metadata": {},
   "outputs": [],
   "source": [
    "splits = []\n",
    "text_splitter = CharacterTextSplitter(chunk_size=500, chunk_overlap=350)\n",
    "[ splits.extend(text_splitter.split_documents(doc)) for doc in documents]\n",
    "embeddings = OpenAIEmbeddings()"
   ]
  },
  {
   "cell_type": "code",
   "execution_count": 56,
   "metadata": {},
   "outputs": [
    {
     "data": {
      "text/plain": [
       "[Document(page_content='\"Cars\" is a 2006 animated film produced by Pixar Animation Studios and released by Walt Disney Pictures. Directed by John Lasseter, the movie takes place in a world populated by anthropomorphic cars and other vehicles. The story follows a race car named Lightning McQueen, voiced by Owen Wilson, who finds himself stranded in the small town of Radiator Springs on Route 66 after accidentally detouring off the interstate.', metadata={'source': './TestFiles/carsmovie.txt'}),\n",
       " Document(page_content='In Radiator Springs, Lightning McQueen meets a variety of quirky characters, including Sally (a Porsche voiced by Bonnie Hunt), Mater (a tow truck voiced by Larry the Cable Guy), and Doc Hudson (a retired race car voiced by Paul Newman). Through his interactions with the residents of Radiator Springs, Lightning McQueen learns valuable lessons about friendship, community, and the importance of slowing down and appreciating the journey.', metadata={'source': './TestFiles/carsmovie.txt'}),\n",
       " Document(page_content='The film\\'s themes of friendship, redemption, and self-discovery, along with its stunning animation and heartwarming story, have made it a beloved classic among both children and adults. \"Cars\" was followed by two sequels, \"Cars 2\" (2011) and \"Cars 3\" (2017), as well as several short films and spin-off series. The franchise has also inspired theme park attractions, merchandise, and a dedicated fan base.', metadata={'source': './TestFiles/carsmovie.txt'}),\n",
       " Document(page_content='The Civil Rights Movement was a pivotal social and political movement in the United States that aimed to end racial segregation and discrimination against African Americans. It took place primarily during the 1950s and 1960s, although its roots can be traced back to the post-Civil War Reconstruction era.\\n\\nKey events and figures of the Civil Rights Movement include:', metadata={'source': './TestFiles/civilrights.txt'}),\n",
       " Document(page_content='Key events and figures of the Civil Rights Movement include:\\n\\n1. Brown v. Board of Education (1954)**: The Supreme Court case that declared segregation in public schools unconstitutional, overturning the \"separate but equal\" doctrine established in Plessy v. Ferguson.\\n\\n2. Montgomery Bus Boycott (1955-1956)**: Sparked by the arrest of Rosa Parks for refusing to give up her bus seat to a white passenger, this boycott was a significant protest against segregation on public transportation.', metadata={'source': './TestFiles/civilrights.txt'}),\n",
       " Document(page_content='3. Civil Rights Act of 1964**: This landmark legislation outlawed discrimination based on race, color, religion, sex, or national origin, and ended unequal application of voter registration requirements and racial segregation in schools, at the workplace, and by facilities that served the general public.', metadata={'source': './TestFiles/civilrights.txt'}),\n",
       " Document(page_content='4. Voting Rights Act of 1965**: Enacted to overcome legal barriers at the state and local levels that prevented African Americans from exercising their right to vote under the 15th Amendment to the Constitution.\\n\\n5. March on Washington for Jobs and Freedom (1963)**: This event is most famous for Martin Luther King Jr.\\'s \"I Have a Dream\" speech, which called for an end to racism and for civil and economic rights.', metadata={'source': './TestFiles/civilrights.txt'}),\n",
       " Document(page_content='5. March on Washington for Jobs and Freedom (1963)**: This event is most famous for Martin Luther King Jr.\\'s \"I Have a Dream\" speech, which called for an end to racism and for civil and economic rights.\\n\\n6. Selma to Montgomery Marches (1965)**: These marches were a series of civil rights protests that drew national attention to the issue of voting rights and led to the passage of the Voting Rights Act.', metadata={'source': './TestFiles/civilrights.txt'}),\n",
       " Document(page_content='6. Selma to Montgomery Marches (1965)**: These marches were a series of civil rights protests that drew national attention to the issue of voting rights and led to the passage of the Voting Rights Act.\\n\\n7. **Leadership**: Figures like Martin Luther King Jr., Rosa Parks, Malcolm X, and many others played key roles in organizing protests, advocating for change, and raising awareness about civil rights issues.', metadata={'source': './TestFiles/civilrights.txt'}),\n",
       " Document(page_content='The Civil Rights Movement was instrumental in bringing about significant legal and social changes in the United States, leading to increased equality and civil rights protections for African Americans and other minority groups. However, the movement also faced significant opposition and challenges, including violence, resistance from government authorities, and deep-seated racism and discrimination.', metadata={'source': './TestFiles/civilrights.txt'})]"
      ]
     },
     "execution_count": 56,
     "metadata": {},
     "output_type": "execute_result"
    }
   ],
   "source": [
    "splits"
   ]
  },
  {
   "cell_type": "code",
   "execution_count": 57,
   "metadata": {},
   "outputs": [
    {
     "data": {
      "text/plain": [
       "421"
      ]
     },
     "execution_count": 57,
     "metadata": {},
     "output_type": "execute_result"
    }
   ],
   "source": [
    "len(splits[0].page_content)"
   ]
  },
  {
   "cell_type": "code",
   "execution_count": 42,
   "metadata": {},
   "outputs": [
    {
     "data": {
      "text/plain": [
       "['\"Cars\" is a 2006 animated film produced by Pixar Animation Studios and released by Walt Disney Pictures. Directed by John Lasseter, the movie takes place in a world populated by anthropomorphic cars and other vehicles. The story follows a race car named Lightning McQueen, voiced by Owen Wilson, who finds himself stranded in the small town of Radiator Springs on Route 66 after accidentally detouring off the interstate.',\n",
       " 'In Radiator Springs, Lightning McQueen meets a variety of quirky characters, including Sally (a Porsche voiced by Bonnie Hunt), Mater (a tow truck voiced by Larry the Cable Guy), and Doc Hudson (a retired race car voiced by Paul Newman). Through his interactions with the residents of Radiator Springs, Lightning McQueen learns valuable lessons about friendship, community, and the importance of slowing down and appreciating the journey.',\n",
       " 'The film\\'s themes of friendship, redemption, and self-discovery, along with its stunning animation and heartwarming story, have made it a beloved classic among both children and adults. \"Cars\" was followed by two sequels, \"Cars 2\" (2011) and \"Cars 3\" (2017), as well as several short films and spin-off series. The franchise has also inspired theme park attractions, merchandise, and a dedicated fan base.',\n",
       " 'The Civil Rights Movement was a pivotal social and political movement in the United States that aimed to end racial segregation and discrimination against African Americans. It took place primarily during the 1950s and 1960s, although its roots can be traced back to the post-Civil War Reconstruction era.\\n\\nKey events and figures of the Civil Rights Movement include:',\n",
       " 'Key events and figures of the Civil Rights Movement include:\\n\\n1. Brown v. Board of Education (1954)**: The Supreme Court case that declared segregation in public schools unconstitutional, overturning the \"separate but equal\" doctrine established in Plessy v. Ferguson.\\n\\n2. Montgomery Bus Boycott (1955-1956)**: Sparked by the arrest of Rosa Parks for refusing to give up her bus seat to a white passenger, this boycott was a significant protest against segregation on public transportation.',\n",
       " '3. Civil Rights Act of 1964**: This landmark legislation outlawed discrimination based on race, color, religion, sex, or national origin, and ended unequal application of voter registration requirements and racial segregation in schools, at the workplace, and by facilities that served the general public.',\n",
       " '4. Voting Rights Act of 1965**: Enacted to overcome legal barriers at the state and local levels that prevented African Americans from exercising their right to vote under the 15th Amendment to the Constitution.\\n\\n5. March on Washington for Jobs and Freedom (1963)**: This event is most famous for Martin Luther King Jr.\\'s \"I Have a Dream\" speech, which called for an end to racism and for civil and economic rights.',\n",
       " '5. March on Washington for Jobs and Freedom (1963)**: This event is most famous for Martin Luther King Jr.\\'s \"I Have a Dream\" speech, which called for an end to racism and for civil and economic rights.\\n\\n6. Selma to Montgomery Marches (1965)**: These marches were a series of civil rights protests that drew national attention to the issue of voting rights and led to the passage of the Voting Rights Act.',\n",
       " '6. Selma to Montgomery Marches (1965)**: These marches were a series of civil rights protests that drew national attention to the issue of voting rights and led to the passage of the Voting Rights Act.\\n\\n7. **Leadership**: Figures like Martin Luther King Jr., Rosa Parks, Malcolm X, and many others played key roles in organizing protests, advocating for change, and raising awareness about civil rights issues.',\n",
       " 'The Civil Rights Movement was instrumental in bringing about significant legal and social changes in the United States, leading to increased equality and civil rights protections for African Americans and other minority groups. However, the movement also faced significant opposition and challenges, including violence, resistance from government authorities, and deep-seated racism and discrimination.']"
      ]
     },
     "execution_count": 42,
     "metadata": {},
     "output_type": "execute_result"
    }
   ],
   "source": [
    "list(map(lambda split: split.page_content, splits))"
   ]
  },
  {
   "cell_type": "code",
   "execution_count": 47,
   "metadata": {},
   "outputs": [],
   "source": [
    "from langchain_pinecone import PineconeVectorStore\n",
    "\n",
    "docsearch = PineconeVectorStore.from_documents(splits, embeddings, index_name=PINECONE_INDEX_NAME)"
   ]
  },
  {
   "cell_type": "code",
   "execution_count": null,
   "metadata": {},
   "outputs": [
    {
     "name": "stdout",
     "output_type": "stream",
     "text": [
      "6. Selma to Montgomery Marches (1965)**: These marches were a series of civil rights protests that drew national attention to the issue of voting rights and led to the passage of the Voting Rights Act.\n",
      "\n",
      "7. **Leadership**: Figures like Martin Luther King Jr., Rosa Parks, Malcolm X, and many others played key roles in organizing protests, advocating for change, and raising awareness about civil rights issues.\n"
     ]
    }
   ],
   "source": [
    "query = \"selma\"\n",
    "docs = docsearch.similarity_search(query)\n",
    "print(docs[0].page_content)"
   ]
  },
  {
   "cell_type": "code",
   "execution_count": null,
   "metadata": {},
   "outputs": [],
   "source": []
  },
  {
   "cell_type": "code",
   "execution_count": null,
   "metadata": {},
   "outputs": [],
   "source": []
  }
 ],
 "metadata": {
  "kernelspec": {
   "display_name": "Python 3",
   "language": "python",
   "name": "python3"
  },
  "language_info": {
   "codemirror_mode": {
    "name": "ipython",
    "version": 3
   },
   "file_extension": ".py",
   "mimetype": "text/x-python",
   "name": "python",
   "nbconvert_exporter": "python",
   "pygments_lexer": "ipython3",
   "version": "3.10.11"
  }
 },
 "nbformat": 4,
 "nbformat_minor": 2
}
